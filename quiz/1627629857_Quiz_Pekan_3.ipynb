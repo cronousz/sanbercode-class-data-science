{
 "cells": [
  {
   "cell_type": "markdown",
   "metadata": {
    "id": "VB8zvKUxEv_W"
   },
   "source": [
    "# **Quiz Pekan - 3**"
   ]
  },
  {
   "cell_type": "markdown",
   "metadata": {
    "id": "v2OY1URYFE93"
   },
   "source": [
    "# Soal 1 : Apakah harapan kalian saat mengikuti kelas Python Datascience dasar? "
   ]
  },
  {
   "cell_type": "markdown",
   "metadata": {
    "id": "5KAW04zaFHB6"
   },
   "source": [
    "Jawab:dapat memahami datascience dan ilmu yang diperoleh dapat dikembangkan\n"
   ]
  },
  {
   "cell_type": "markdown",
   "metadata": {
    "id": "JBAXvO6tzVu_"
   },
   "source": [
    "\n",
    "\n",
    "---\n",
    "\n",
    "\n",
    "\n",
    "---\n",
    "\n"
   ]
  },
  {
   "cell_type": "markdown",
   "metadata": {
    "id": "8yMR5KaXFKz6"
   },
   "source": [
    "\n",
    "## **Penjelasan Dataset**\n",
    "Dataset-dataset berikut ini menunjukkan score happines dunia. Score happiness menggunakan data dari GallUp world poll. Data feature yang menjadi kata kunci di report ini adalah:\n",
    "\n",
    "*  **Life Ladder** >> Ibarat sebuah tangga, pijakan 0 adalah dasar dan 10 adalah atas. Tangga atas menunjukkan  kehidupan terbaik  dan dasar tangga menunjukkan kehidupan terburuk \n",
    "*   **Log GDP Per capita** >> nilai ekonomi yang dihasilkan setiap individu warga\n",
    "*  **Social support**  >> dukungan sosial seperti keluarga, teman, tetangga dll\n",
    "*   **Healthy life expectancy at birth** >> rata-rata hidup dalam kesehatan yang baik\n",
    "*   **Freedom to make life choices** >> Peluang tiap individu untuk melakukan aksi yang dipilih\n",
    "*   **Generosity** >> Kemurahan hati\n",
    "*  **Perceptions of corruption**  >> Korupsi\n",
    "\n",
    "\n",
    "Link Download:\n",
    "\n",
    "[world-happiness-report.csv](https://drive.google.com/uc?export=download&id=14yujHboPMR5tc_n3btPcFW4fXgy4-SzL)\n",
    "\n",
    "[world-happiness-report-2021.csv](https://drive.google.com/uc?export=download&id=1gWCX58PyH0viABEMswzJ71sJ0v5KHco3)"
   ]
  },
  {
   "cell_type": "code",
   "execution_count": 3,
   "metadata": {
    "id": "n2uDMIPTFNqX"
   },
   "outputs": [],
   "source": [
    "import numpy as np\n",
    "import matplotlib.pyplot as plt\n",
    "import pandas as pd\n",
    "import seaborn as sns"
   ]
  },
  {
   "cell_type": "code",
   "execution_count": 4,
   "metadata": {
    "id": "TZ1UmzZEGcpi"
   },
   "outputs": [],
   "source": [
    "#import semua data\n",
    "\n",
    "df1 = pd.read_csv('dataset/world-happiness-report.csv')\n",
    "df2 = pd.read_csv('dataset/world-happiness-report-2021.csv')"
   ]
  },
  {
   "cell_type": "markdown",
   "metadata": {
    "id": "YMmGRLJkGjkF"
   },
   "source": [
    "# Soal 2 : Tunjukkan summary statistik dari dataset world happiness 2021 seperti expected output berikut. \n",
    "\n",
    "\n",
    "\n",
    "*   Tunjukkan summary statistik dari dataset df2\n",
    "\n",
    "\n",
    "\n",
    "HINT:\n",
    "Teman-teman perlu mendrop beberapa kolom yang tidak ditampilkan di tabel expected output dengan menggunakan atribut .drop() dari pandas DataFrame. Silahkan kunjungi referensi link berikut:\n",
    "https://pandas.pydata.org/pandas-docs/stable/reference/api/pandas.DataFrame.drop.html"
   ]
  },
  {
   "cell_type": "code",
   "execution_count": 6,
   "metadata": {
    "id": "OC7WmIfHGkNG"
   },
   "outputs": [],
   "source": [
    "#code here\n"
   ]
  },
  {
   "cell_type": "markdown",
   "metadata": {
    "id": "wfmhO6ovGlV2"
   },
   "source": [
    "Expected output:\n",
    "\n",
    "![Expected Output:](https://drive.google.com/uc?id=1wvMxczKvP94GTAGTWmjoBydNOkK0OqU2)"
   ]
  },
  {
   "cell_type": "markdown",
   "metadata": {
    "id": "9VSQwAMbM2HY"
   },
   "source": [
    "\n",
    "\n",
    "---\n",
    "\n",
    "\n",
    "\n",
    "---\n",
    "\n"
   ]
  },
  {
   "cell_type": "markdown",
   "metadata": {
    "id": "eO_bSRRSM5pp"
   },
   "source": [
    "# Soal 3: Happiness report negara Indonesia dari tahun 2006 - 2021\n",
    "\n",
    "Output yang diharapkan adalah data negara Indonesia dari penggabungan dataset happiness report dan dataset happiness report 2021. Untuk sesuai dengan expected ouput, lakukan perintah-perintah berikut:\n",
    "\n",
    "\n",
    "1.   Lakukan filtering dataset happiness report dari kolom ['Country name']== \n",
    "'Indonesia'\n",
    "        - tambahkan atribut .reset_index(drop=True)\n",
    "        - drop kolom 'Positive affect' dan 'Negative affect'\n",
    "\n",
    "2.   Lakukan filtering dataset dari variabel no 2 hasil dropping beberapa kolom\n",
    "        - tambahkan kolom ['year']=2021 pada dataset dari variabel no 2 hasil dropping beberapa kolom\n",
    "        - filtering dataset tersebut menggunakan kolom ['Country name']== \n",
    "'Indonesia'\n",
    "        - rename beberapa kolom dengan menggunakan atribut .rename() dari pandas, referensi dokumentasi : https://pandas.pydata.org/pandas-docs/stable/reference/api/pandas.DataFrame.rename.html\n",
    "                {      \n",
    "               'Ladder score':'Life Ladder',\n",
    "               'Logged GDP per capita':'Log GDP per capita',\n",
    "                'Healthy life expectancy':'Healthy life expectancy at birth'}\n",
    "\n",
    "        - drop kolom 'Dystopia + residual' dan 'Regional indicator'\n",
    "\n",
    "3. Gabungkan data dari hasil poin 1 dan poin 2\n",
    "    -  gunakan pandas concat, .concat()\n",
    "    - tambahkan atribut .reset_index(drop=True)\n",
    "    - rename kolom {'year':'Year'}\n"
   ]
  },
  {
   "cell_type": "code",
   "execution_count": null,
   "metadata": {
    "id": "fkgNPtq0M-ps"
   },
   "outputs": [],
   "source": [
    "#code here"
   ]
  },
  {
   "cell_type": "markdown",
   "metadata": {
    "id": "u4pKIYuCNC_N"
   },
   "source": [
    "Expected output:\n",
    "\n",
    "![Expected Output:](https://drive.google.com/uc?id=1FRTJ03i_khNOWeIeEGaAOSsurwKlZ8ex)"
   ]
  },
  {
   "cell_type": "markdown",
   "metadata": {
    "id": "xB08yvSoNQZk"
   },
   "source": [
    "\n",
    "\n",
    "---\n",
    "\n",
    "\n",
    "\n",
    "---\n",
    "\n"
   ]
  },
  {
   "cell_type": "markdown",
   "metadata": {
    "id": "9WVXGAm0NSnZ"
   },
   "source": [
    "# Soal 4: Visualisasi lineplot Life Ladder negara Indonesia\n",
    "\n",
    "*   Gunakan library seaborn untuk plotting line plot kolom Life Ladder dari hasil penggabungan negara Indonesia tahun 2006-2021 (soal 3) seperti expected output, jika tidak bisa menyelesaikan soal 3 silahkan download data berikut \n",
    "[Download.csv](https://drive.google.com/uc?export=download&id=19g5oURnRNlbXPUEQQyvimoEx8DwqMPLW) \n",
    "*   Berikan insight dari hasil visualisasi tersebut"
   ]
  },
  {
   "cell_type": "code",
   "execution_count": null,
   "metadata": {
    "id": "q6ooEnFuNXo_"
   },
   "outputs": [],
   "source": [
    "#code here"
   ]
  },
  {
   "cell_type": "markdown",
   "metadata": {
    "id": "LyJtpafNNZam"
   },
   "source": [
    "Expected output:\n",
    "\n",
    "![Expected Output:](https://drive.google.com/uc?id=16Qlf66XYLNSGtJpCx1hWkQI0CmffaaGW)"
   ]
  },
  {
   "cell_type": "markdown",
   "metadata": {
    "id": "DbP8ilbY0LH5"
   },
   "source": [
    "#### insight here"
   ]
  },
  {
   "cell_type": "markdown",
   "metadata": {
    "id": "O4xAgXXyNp-L"
   },
   "source": [
    "\n",
    "\n",
    "---\n",
    "\n",
    "\n",
    "\n",
    "---\n",
    "\n"
   ]
  },
  {
   "cell_type": "markdown",
   "metadata": {
    "id": "XAcTw9DENsKy"
   },
   "source": [
    "# Soal 5: Urutkan Ladder Score tertinggi dengan negara-negara Asia Tenggara seperti expected output\n",
    "\n",
    "Untuk mendapatkan expected output, lakukan perintah-perintah berikut:\n",
    "\n",
    "*   Sorting data berdasarkan kolom 'Ladder Score' dari dataset world happiness 2021 dengan hanya menampilkan kolom ['Country name', 'Ladder score', 'Regional indicator']. Sorting data menggunakan sort_values() dari pandas, silahkan kunjungi dokumentasi berikut: https://pandas.pydata.org/docs/reference/api/pandas.DataFrame.sort_values.html\n",
    "*   Urutan pertama diperoleh dari hasil filtering dengan kondisi ['Ladder score']==['Ladder score'].max()\n",
    "\n",
    "*   Urutan negara-negara Asia tenggara diperoleh dari hasil Filtering kolom ['Regional indicator'] == 'Southeast Asia'\n",
    "*   Lakukan concatination antara data Urutan pertama dengan urutan negara Asia Tenggara menggunakan pd.concat()\n",
    "*   Tambahkan kolom ['Rank'] yang berisi dari indeks hasil penggabungan\n",
    "*   drop kolom 'Regional indicator'\n"
   ]
  },
  {
   "cell_type": "code",
   "execution_count": null,
   "metadata": {
    "id": "bwl-vbqPNwwJ"
   },
   "outputs": [],
   "source": [
    "#code here"
   ]
  },
  {
   "cell_type": "markdown",
   "metadata": {
    "id": "92T-4UylNypo"
   },
   "source": [
    "Expected output:\n",
    "\n",
    "![Expected Output:](https://drive.google.com/uc?id=1JTwA9auco2loNLRXHQFy0k6EpFhJeqA5)"
   ]
  },
  {
   "cell_type": "markdown",
   "metadata": {
    "id": "MHZD7lRoOOwZ"
   },
   "source": [
    "\n",
    "\n",
    "---\n",
    "\n",
    "\n",
    "\n",
    "---\n",
    "\n"
   ]
  },
  {
   "cell_type": "markdown",
   "metadata": {
    "id": "Qu3cF6ooORte"
   },
   "source": [
    "# Soal 6: Visualisasi Scatter plot\n",
    "\n",
    "Buatlah visualisasi scatter plot (perpaduan seaborn dan matplotlib) dari df2 antara GDP per capita ('Logged GDP per capita') dan  skor korupsi ('Perceptions of corruptions')  sesuai expected output dengan ketentuan berikut:\n",
    "\n",
    "Gunakan kolom skor kebebasan beraksi ('Freedom to make life choices') sebagai ukuran pointnya kalikan suatu angka yang cukup besar agar terlihat.\n",
    "\n",
    "Gunakan kolom skor kesehatan ('Healthy life expectancy') sebagai warna point, berikan cmap 'plasma'.\n",
    "\n",
    "Gunakan regplot pada seaborn (sns.regplot) dengan argumen scatter=False dan color = 'black'"
   ]
  },
  {
   "cell_type": "code",
   "execution_count": null,
   "metadata": {
    "id": "QMG5Alj3OWgq"
   },
   "outputs": [],
   "source": [
    "#code here"
   ]
  },
  {
   "cell_type": "markdown",
   "metadata": {
    "id": "oNlQ4FqWOiWE"
   },
   "source": [
    "Expected output:\n",
    "\n",
    "![Expected Output:](https://drive.google.com/uc?id=1KlQcNK6RNMNGoRkxwo4KPUgX40efZH7a)"
   ]
  }
 ],
 "metadata": {
  "colab": {
   "collapsed_sections": [],
   "name": "Quiz Pekan 3.ipynb",
   "provenance": []
  },
  "kernelspec": {
   "display_name": "Python 3 (ipykernel)",
   "language": "python",
   "name": "python3"
  },
  "language_info": {
   "codemirror_mode": {
    "name": "ipython",
    "version": 3
   },
   "file_extension": ".py",
   "mimetype": "text/x-python",
   "name": "python",
   "nbconvert_exporter": "python",
   "pygments_lexer": "ipython3",
   "version": "3.9.6"
  }
 },
 "nbformat": 4,
 "nbformat_minor": 4
}
