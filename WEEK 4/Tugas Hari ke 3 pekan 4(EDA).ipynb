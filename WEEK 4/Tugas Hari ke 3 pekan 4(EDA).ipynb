{
  "nbformat": 4,
  "nbformat_minor": 0,
  "metadata": {
    "colab": {
      "name": "Tugas_Day_3(EDA).ipynb",
      "provenance": [],
      "collapsed_sections": [],
      "toc_visible": true
    },
    "kernelspec": {
      "name": "python3",
      "display_name": "Python 3"
    },
    "language_info": {
      "name": "python"
    }
  },
  "cells": [
    {
      "cell_type": "markdown",
      "metadata": {
        "id": "EqmubOp2whk3"
      },
      "source": [
        "# Soal 1. Pemahaman k-means clustering\n",
        "\n",
        "Jelaskan bagaimana cara kerja k-means clustering!"
      ]
    },
    {
      "cell_type": "markdown",
      "metadata": {
        "id": "gf8y3llqw369"
      },
      "source": [
        "Jawab disini:\n",
        "\n"
      ]
    },
    {
      "cell_type": "markdown",
      "metadata": {
        "id": "oXGsjqHCk7DW"
      },
      "source": [
        "Untuk memproses data algoritma K-means Clustering , data dimulai dengan kelompok pertama centroid yang dipilih secara acak, yang digunakan sebagai titik awal untuk setiap cluster, dan kemudian melakukan perhitungan berulang (berulang) untuk mengoptimalkan posisi centroid.\n",
        "\n",
        "---\n",
        "\n",
        "---\n",
        "\n",
        "\n",
        "\n",
        "---\n",
        "\n",
        "\n",
        "\n",
        "\n",
        "\n",
        "\n",
        "\n",
        "\n",
        "\n",
        "\n",
        "\n",
        "\n",
        "\n",
        "---\n",
        "\n"
      ]
    },
    {
      "cell_type": "markdown",
      "metadata": {
        "id": "NoX-A3wElHoq"
      },
      "source": [
        "Download disini [pelanggan.csv](https://drive.google.com/uc?export=download&id=1jX_rLPfcCfzEEgy9xaoALmpqfU2s5TTB)"
      ]
    },
    {
      "cell_type": "code",
      "metadata": {
        "colab": {
          "base_uri": "https://localhost:8080/",
          "height": 204
        },
        "id": "rqRBoUBsw7S0",
        "outputId": "9614c1e2-1610-4941-a227-38e830ed54f1"
      },
      "source": [
        "import pandas as pd\n",
        "import matplotlib.pyplot as plt\n",
        "import numpy as np\n",
        "import pandas as pd\n",
        "import seaborn as sns\n",
        "df = pd.read_csv('https://raw.githubusercontent.com/cronousz/sanbercode-class-data-science/main/WEEK%204/dataset/pelanggan_supermarket.csv')\n",
        "df.head()"
      ],
      "execution_count": 5,
      "outputs": [
        {
          "output_type": "execute_result",
          "data": {
            "text/html": [
              "<div>\n",
              "<style scoped>\n",
              "    .dataframe tbody tr th:only-of-type {\n",
              "        vertical-align: middle;\n",
              "    }\n",
              "\n",
              "    .dataframe tbody tr th {\n",
              "        vertical-align: top;\n",
              "    }\n",
              "\n",
              "    .dataframe thead th {\n",
              "        text-align: right;\n",
              "    }\n",
              "</style>\n",
              "<table border=\"1\" class=\"dataframe\">\n",
              "  <thead>\n",
              "    <tr style=\"text-align: right;\">\n",
              "      <th></th>\n",
              "      <th>ID_pelanggan</th>\n",
              "      <th>Jenis Kelamin</th>\n",
              "      <th>Umur</th>\n",
              "      <th>Pendapatan pertahun (juta)</th>\n",
              "      <th>Skor Belanja (1-100)</th>\n",
              "    </tr>\n",
              "  </thead>\n",
              "  <tbody>\n",
              "    <tr>\n",
              "      <th>0</th>\n",
              "      <td>1</td>\n",
              "      <td>Laki-laki</td>\n",
              "      <td>19.0</td>\n",
              "      <td>15</td>\n",
              "      <td>39.0</td>\n",
              "    </tr>\n",
              "    <tr>\n",
              "      <th>1</th>\n",
              "      <td>2</td>\n",
              "      <td>Laki-laki</td>\n",
              "      <td>21.0</td>\n",
              "      <td>15</td>\n",
              "      <td>81.0</td>\n",
              "    </tr>\n",
              "    <tr>\n",
              "      <th>2</th>\n",
              "      <td>3</td>\n",
              "      <td>Perempuan</td>\n",
              "      <td>20.0</td>\n",
              "      <td>16</td>\n",
              "      <td>6.0</td>\n",
              "    </tr>\n",
              "    <tr>\n",
              "      <th>3</th>\n",
              "      <td>4</td>\n",
              "      <td>Perempuan</td>\n",
              "      <td>23.0</td>\n",
              "      <td>16</td>\n",
              "      <td>77.0</td>\n",
              "    </tr>\n",
              "    <tr>\n",
              "      <th>4</th>\n",
              "      <td>5</td>\n",
              "      <td>Perempuan</td>\n",
              "      <td>31.0</td>\n",
              "      <td>17</td>\n",
              "      <td>40.0</td>\n",
              "    </tr>\n",
              "  </tbody>\n",
              "</table>\n",
              "</div>"
            ],
            "text/plain": [
              "   ID_pelanggan Jenis Kelamin  ...  Pendapatan pertahun (juta)  Skor Belanja (1-100)\n",
              "0             1     Laki-laki  ...                          15                  39.0\n",
              "1             2     Laki-laki  ...                          15                  81.0\n",
              "2             3     Perempuan  ...                          16                   6.0\n",
              "3             4     Perempuan  ...                          16                  77.0\n",
              "4             5     Perempuan  ...                          17                  40.0\n",
              "\n",
              "[5 rows x 5 columns]"
            ]
          },
          "metadata": {
            "tags": []
          },
          "execution_count": 5
        }
      ]
    },
    {
      "cell_type": "code",
      "metadata": {
        "colab": {
          "base_uri": "https://localhost:8080/"
        },
        "id": "jwZCXF_GR8V7",
        "outputId": "89fd3561-291d-43c2-d503-239f9676dce3"
      },
      "source": [
        "df.info()"
      ],
      "execution_count": 10,
      "outputs": [
        {
          "output_type": "stream",
          "text": [
            "<class 'pandas.core.frame.DataFrame'>\n",
            "RangeIndex: 250 entries, 0 to 249\n",
            "Data columns (total 5 columns):\n",
            " #   Column                      Non-Null Count  Dtype  \n",
            "---  ------                      --------------  -----  \n",
            " 0   ID_pelanggan                250 non-null    int64  \n",
            " 1   Jenis Kelamin               250 non-null    object \n",
            " 2   Umur                        245 non-null    float64\n",
            " 3   Pendapatan pertahun (juta)  250 non-null    int64  \n",
            " 4   Skor Belanja (1-100)        246 non-null    float64\n",
            "dtypes: float64(2), int64(2), object(1)\n",
            "memory usage: 9.9+ KB\n"
          ],
          "name": "stdout"
        }
      ]
    },
    {
      "cell_type": "markdown",
      "metadata": {
        "id": "AByM6XoYMkTy"
      },
      "source": [
        "# Soal 2. Clustering data menggunakan k-means clustering\n",
        "\n",
        "Dalam soal ini, kalian diminta untuk melakukan clustering antara data Umur dan Skor Belanja(1-100). Namun, clustering tidak bisa dilakukan karena data memiliki outlier dan missing value. Maka, lakukanlah tahapan-tahapan berikut:\n",
        "\n",
        "*   Handling missing value dengan menggunakan method ='ffill'\n",
        "*   Handling outlier menggunakan metode Interquartile range\n",
        "*   Lakukan rescaling data menggunakan StandardScaler\n",
        "*   Lakukan clustering menggunakan kmeans clustering dengan k =2, dan visualisasikan.. \n",
        "*   Gunakan Elbow method untuk menemukan jumlah k kluster yang tepat\n",
        "*   Gunakan k=3 (rekomendasi methode Elbow) lalu visualisasikan\n",
        "*   Hitung silhoutte Coefficient dari ke dua hasil prediksi klustering tersebut\n",
        "\n",
        "\n",
        "\n",
        "\n",
        "\n",
        "\n",
        "\n",
        "\n"
      ]
    },
    {
      "cell_type": "code",
      "metadata": {
        "id": "l2u2IRm4Ou_9",
        "colab": {
          "base_uri": "https://localhost:8080/",
          "height": 419
        },
        "outputId": "d928a163-a14f-46d8-f68a-32f83b6391c3"
      },
      "source": [
        "#code here\n",
        "df.ffill(inplace=True)\n",
        "df"
      ],
      "execution_count": 20,
      "outputs": [
        {
          "output_type": "execute_result",
          "data": {
            "text/html": [
              "<div>\n",
              "<style scoped>\n",
              "    .dataframe tbody tr th:only-of-type {\n",
              "        vertical-align: middle;\n",
              "    }\n",
              "\n",
              "    .dataframe tbody tr th {\n",
              "        vertical-align: top;\n",
              "    }\n",
              "\n",
              "    .dataframe thead th {\n",
              "        text-align: right;\n",
              "    }\n",
              "</style>\n",
              "<table border=\"1\" class=\"dataframe\">\n",
              "  <thead>\n",
              "    <tr style=\"text-align: right;\">\n",
              "      <th></th>\n",
              "      <th>ID_pelanggan</th>\n",
              "      <th>Jenis Kelamin</th>\n",
              "      <th>Umur</th>\n",
              "      <th>Pendapatan pertahun (juta)</th>\n",
              "      <th>Skor Belanja (1-100)</th>\n",
              "    </tr>\n",
              "  </thead>\n",
              "  <tbody>\n",
              "    <tr>\n",
              "      <th>0</th>\n",
              "      <td>1</td>\n",
              "      <td>Laki-laki</td>\n",
              "      <td>19.0</td>\n",
              "      <td>15</td>\n",
              "      <td>39.0</td>\n",
              "    </tr>\n",
              "    <tr>\n",
              "      <th>1</th>\n",
              "      <td>2</td>\n",
              "      <td>Laki-laki</td>\n",
              "      <td>21.0</td>\n",
              "      <td>15</td>\n",
              "      <td>81.0</td>\n",
              "    </tr>\n",
              "    <tr>\n",
              "      <th>2</th>\n",
              "      <td>3</td>\n",
              "      <td>Perempuan</td>\n",
              "      <td>20.0</td>\n",
              "      <td>16</td>\n",
              "      <td>6.0</td>\n",
              "    </tr>\n",
              "    <tr>\n",
              "      <th>3</th>\n",
              "      <td>4</td>\n",
              "      <td>Perempuan</td>\n",
              "      <td>23.0</td>\n",
              "      <td>16</td>\n",
              "      <td>77.0</td>\n",
              "    </tr>\n",
              "    <tr>\n",
              "      <th>4</th>\n",
              "      <td>5</td>\n",
              "      <td>Perempuan</td>\n",
              "      <td>31.0</td>\n",
              "      <td>17</td>\n",
              "      <td>40.0</td>\n",
              "    </tr>\n",
              "    <tr>\n",
              "      <th>...</th>\n",
              "      <td>...</td>\n",
              "      <td>...</td>\n",
              "      <td>...</td>\n",
              "      <td>...</td>\n",
              "      <td>...</td>\n",
              "    </tr>\n",
              "    <tr>\n",
              "      <th>245</th>\n",
              "      <td>246</td>\n",
              "      <td>Laki-laki</td>\n",
              "      <td>59.0</td>\n",
              "      <td>93</td>\n",
              "      <td>14.0</td>\n",
              "    </tr>\n",
              "    <tr>\n",
              "      <th>246</th>\n",
              "      <td>247</td>\n",
              "      <td>Laki-laki</td>\n",
              "      <td>35.0</td>\n",
              "      <td>93</td>\n",
              "      <td>90.0</td>\n",
              "    </tr>\n",
              "    <tr>\n",
              "      <th>247</th>\n",
              "      <td>248</td>\n",
              "      <td>Perempuan</td>\n",
              "      <td>37.0</td>\n",
              "      <td>97</td>\n",
              "      <td>32.0</td>\n",
              "    </tr>\n",
              "    <tr>\n",
              "      <th>248</th>\n",
              "      <td>249</td>\n",
              "      <td>Perempuan</td>\n",
              "      <td>32.0</td>\n",
              "      <td>97</td>\n",
              "      <td>86.0</td>\n",
              "    </tr>\n",
              "    <tr>\n",
              "      <th>249</th>\n",
              "      <td>250</td>\n",
              "      <td>Laki-laki</td>\n",
              "      <td>120.0</td>\n",
              "      <td>98</td>\n",
              "      <td>15.0</td>\n",
              "    </tr>\n",
              "  </tbody>\n",
              "</table>\n",
              "<p>250 rows × 5 columns</p>\n",
              "</div>"
            ],
            "text/plain": [
              "     ID_pelanggan  ... Skor Belanja (1-100)\n",
              "0               1  ...                 39.0\n",
              "1               2  ...                 81.0\n",
              "2               3  ...                  6.0\n",
              "3               4  ...                 77.0\n",
              "4               5  ...                 40.0\n",
              "..            ...  ...                  ...\n",
              "245           246  ...                 14.0\n",
              "246           247  ...                 90.0\n",
              "247           248  ...                 32.0\n",
              "248           249  ...                 86.0\n",
              "249           250  ...                 15.0\n",
              "\n",
              "[250 rows x 5 columns]"
            ]
          },
          "metadata": {
            "tags": []
          },
          "execution_count": 20
        }
      ]
    },
    {
      "cell_type": "code",
      "metadata": {
        "id": "k8A8vRZXWmKj"
      },
      "source": [
        "def finding_outlier(df):\n",
        "  Q1 = df.quantile(0.25)\n",
        "  Q3 = df.quantile(0.75)\n",
        "  IQR = Q3-Q1\n",
        "  df_final = df[(df<(Q1-(1.5*IQR))) | (df>(Q3+(1.5*IQR)))]\n",
        "  return df_final\n",
        "                                      "
      ],
      "execution_count": 12,
      "outputs": []
    },
    {
      "cell_type": "code",
      "metadata": {
        "colab": {
          "base_uri": "https://localhost:8080/"
        },
        "id": "k8WZh3oUWqZ_",
        "outputId": "b50ee043-8005-4123-aa82-985450696b1e"
      },
      "source": [
        "print(finding_outlier(df['Umur']))\n",
        "print(finding_outlier(df['Skor Belanja (1-100)']))"
      ],
      "execution_count": 22,
      "outputs": [
        {
          "output_type": "stream",
          "text": [
            "249    120.0\n",
            "Name: Umur, dtype: float64\n",
            "16    150.0\n",
            "Name: Skor Belanja (1-100), dtype: float64\n"
          ],
          "name": "stdout"
        }
      ]
    },
    {
      "cell_type": "code",
      "metadata": {
        "id": "xupJG9UTY1ig"
      },
      "source": [
        "def remove_outlier(df):\n",
        "  Q1 = df.quantile(0.25)\n",
        "  Q3 = df.quantile(0.75)\n",
        "  IQR = Q3-Q1\n",
        "  df_final = df[~((df<(Q1-(1.5*IQR))) | (df>(Q3+(1.5*IQR))))]\n",
        "  return df_final\n",
        "                    "
      ],
      "execution_count": 23,
      "outputs": []
    },
    {
      "cell_type": "code",
      "metadata": {
        "id": "mXYP-RtkY534"
      },
      "source": [
        "df = remove_outlier(df[['Umur', 'Skor Belanja (1-100)']])\n",
        "\n",
        "df.dropna(axis=0, inplace=True)"
      ],
      "execution_count": 25,
      "outputs": []
    },
    {
      "cell_type": "code",
      "metadata": {
        "colab": {
          "base_uri": "https://localhost:8080/",
          "height": 352
        },
        "id": "e3ziERV4ZF_x",
        "outputId": "79763a50-cab0-4a85-f987-fb5557e5d42f"
      },
      "source": [
        "sns.boxplot('Umur', data=df)"
      ],
      "execution_count": 31,
      "outputs": [
        {
          "output_type": "stream",
          "text": [
            "/usr/local/lib/python3.7/dist-packages/seaborn/_decorators.py:43: FutureWarning: Pass the following variable as a keyword arg: x. From version 0.12, the only valid positional argument will be `data`, and passing other arguments without an explicit keyword will result in an error or misinterpretation.\n",
            "  FutureWarning\n"
          ],
          "name": "stderr"
        },
        {
          "output_type": "execute_result",
          "data": {
            "text/plain": [
              "<matplotlib.axes._subplots.AxesSubplot at 0x7fdcfaf4b910>"
            ]
          },
          "metadata": {
            "tags": []
          },
          "execution_count": 31
        },
        {
          "output_type": "display_data",
          "data": {
            "image/png": "[encoded data removed]",
            "text/plain": [
              "<Figure size 432x288 with 1 Axes>"
            ]
          },
          "metadata": {
            "tags": [],
            "needs_background": "light"
          }
        }
      ]
    },
    {
      "cell_type": "code",
      "metadata": {
        "colab": {
          "base_uri": "https://localhost:8080/",
          "height": 352
        },
        "id": "-M1bUTgsZc9O",
        "outputId": "f6e6ecad-11ce-4410-b35e-d43dd72ebb77"
      },
      "source": [
        "sns.boxplot('Skor Belanja (1-100)', data=df)"
      ],
      "execution_count": 30,
      "outputs": [
        {
          "output_type": "stream",
          "text": [
            "/usr/local/lib/python3.7/dist-packages/seaborn/_decorators.py:43: FutureWarning: Pass the following variable as a keyword arg: x. From version 0.12, the only valid positional argument will be `data`, and passing other arguments without an explicit keyword will result in an error or misinterpretation.\n",
            "  FutureWarning\n"
          ],
          "name": "stderr"
        },
        {
          "output_type": "execute_result",
          "data": {
            "text/plain": [
              "<matplotlib.axes._subplots.AxesSubplot at 0x7fdcfaf87b10>"
            ]
          },
          "metadata": {
            "tags": []
          },
          "execution_count": 30
        },
        {
          "output_type": "display_data",
          "data": {
            "image/png": "[encoded data removed]",
            "text/plain": [
              "<Figure size 432x288 with 1 Axes>"
            ]
          },
          "metadata": {
            "tags": [],
            "needs_background": "light"
          }
        }
      ]
    },
    {
      "cell_type": "code",
      "metadata": {
        "colab": {
          "base_uri": "https://localhost:8080/"
        },
        "id": "zRvXJFpvaWry",
        "outputId": "3eadbf28-8bef-4894-86ef-b033e14f227c"
      },
      "source": [
        "#Feature scaling\n",
        "\n",
        "from sklearn.preprocessing import StandardScaler\n",
        "\n",
        "sc = StandardScaler()\n",
        "df_std = sc.fit_transform(df)\n",
        "df_std"
      ],
      "execution_count": 37,
      "outputs": [
        {
          "output_type": "execute_result",
          "data": {
            "text/plain": [
              "array([[-1.45500539e+00, -3.96406732e-01],\n",
              "       [-1.30421503e+00,  1.11936879e+00],\n",
              "       [-1.37961021e+00, -1.58737321e+00],\n",
              "       [-1.15342467e+00,  9.75009217e-01],\n",
              "       [-5.50263218e-01, -3.60316839e-01],\n",
              "       [-1.22881985e+00,  9.38919323e-01],\n",
              "       [-2.48682493e-01, -1.58737321e+00],\n",
              "       [-1.15342467e+00,  1.58853740e+00],\n",
              "       [ 1.93777776e+00, -1.69564289e+00],\n",
              "       [-6.25658399e-01,  7.94559750e-01],\n",
              "       [ 2.16396331e+00, -1.29865407e+00],\n",
              "       [-2.48682493e-01,  1.76898687e+00],\n",
              "       [ 1.48540668e+00, -1.26256417e+00],\n",
              "       [-1.07802949e+00,  9.75009217e-01],\n",
              "       [-9.78921305e-02, -1.33474396e+00],\n",
              "       [-1.22881985e+00,  1.04718900e+00],\n",
              "       [-1.37961021e+00,  5.78020389e-01],\n",
              "       [ 1.03303559e+00, -7.57305666e-01],\n",
              "       [-2.48682493e-01,  1.73289698e+00],\n",
              "       [-2.48682493e-01, -5.40766306e-01],\n",
              "       [-1.00263431e+00,  8.30649643e-01],\n",
              "       [ 5.80664501e-01, -1.62346311e+00],\n",
              "       [-5.50263218e-01,  8.30649643e-01],\n",
              "       [ 1.18382595e+00, -1.29865407e+00],\n",
              "       [-7.01053580e-01,  1.15545868e+00],\n",
              "       [ 5.05269319e-01, -6.49035986e-01],\n",
              "       [-2.48682493e-01,  3.97570922e-01],\n",
              "       [ 1.28293413e-01, -6.85125879e-01],\n",
              "       [-1.15342467e+00,  1.33590815e+00],\n",
              "       [ 1.63619704e+00, -1.65955300e+00],\n",
              "       [-1.30421503e+00,  8.30649643e-01],\n",
              "       [ 1.10843077e+00, -1.65955300e+00],\n",
              "       [-1.53040057e+00,  1.51635762e+00],\n",
              "       [ 8.06850044e-01, -1.29865407e+00],\n",
              "       [-1.30421503e+00,  1.11936879e+00],\n",
              "       [ 2.79083776e-01, -1.19038439e+00],\n",
              "       [-6.25658399e-01,  8.30649643e-01],\n",
              "       [-1.73287312e-01, -8.65575346e-01],\n",
              "       [-1.37961021e+00,  9.02829430e-01],\n",
              "       [ 2.01317294e+00, -5.40766306e-01],\n",
              "       [-1.07802949e+00,  1.51635762e+00],\n",
              "       [ 7.31454863e-01, -5.04676412e-01],\n",
              "       [-5.50263218e-01,  3.97570922e-01],\n",
              "       [ 8.06850044e-01, -7.93395560e-01],\n",
              "       [-1.07802949e+00,  5.41930496e-01],\n",
              "       [ 8.82245226e-01,  1.81031562e-01],\n",
              "       [-8.51843943e-01, -1.07687585e-01],\n",
              "       [-7.01053580e-01, -2.88137052e-01],\n",
              "       [-5.50263218e-01, -2.88137052e-01],\n",
              "       [ 8.06850044e-01,  7.27618818e-02],\n",
              "       [-3.99472855e-01,  3.61481029e-01],\n",
              "       [-5.50263218e-01,  1.44941669e-01],\n",
              "       [ 1.56080186e+00,  3.61481029e-01],\n",
              "       [ 8.82245226e-01, -1.79867372e-01],\n",
              "       [ 6.56059682e-01, -3.24226945e-01],\n",
              "       [ 9.57640407e-01,  5.82095055e-04],\n",
              "       [ 2.31475367e+00, -1.43777479e-01],\n",
              "       [-8.51843943e-01,  3.66719884e-02],\n",
              "       [ 1.10843077e+00, -1.43777479e-01],\n",
              "       [ 2.39014885e+00,  2.17121455e-01],\n",
              "       [-1.45500539e+00,  2.17121455e-01],\n",
              "       [ 2.16396331e+00,  7.27618818e-02],\n",
              "       [ 1.18382595e+00,  3.25391136e-01],\n",
              "       [ 1.86238258e+00,  3.66719884e-02],\n",
              "       [-1.53040057e+00,  3.25391136e-01],\n",
              "       [ 3.54478957e-01,  5.82095055e-04],\n",
              "       [ 2.23935849e+00, -7.15976917e-02],\n",
              "       [-1.45500539e+00,  3.25391136e-01],\n",
              "       [-4.74868037e-01, -1.07687585e-01],\n",
              "       [ 2.39014885e+00,  1.81031562e-01],\n",
              "       [ 6.56059682e-01, -2.88137052e-01],\n",
              "       [ 1.63619704e+00, -3.55077983e-02],\n",
              "       [ 1.63619704e+00,  2.17121455e-01],\n",
              "       [ 1.56080186e+00, -1.07687585e-01],\n",
              "       [-9.27239124e-01,  1.44941669e-01],\n",
              "       [ 5.05269319e-01,  1.08851775e-01],\n",
              "       [ 1.28293413e-01, -7.15976917e-02],\n",
              "       [-1.15342467e+00,  7.27618818e-02],\n",
              "       [ 8.06850044e-01, -2.88137052e-01],\n",
              "       [ 1.41001149e+00,  3.66719884e-02],\n",
              "       [-2.24969492e-02,  1.81031562e-01],\n",
              "       [ 2.16396331e+00, -3.24226945e-01],\n",
              "       [ 5.80664501e-01, -2.15957265e-01],\n",
              "       [-1.30421503e+00,  2.53211349e-01],\n",
              "       [ 7.31454863e-01, -1.43777479e-01],\n",
              "       [ 1.25922113e+00,  2.89301242e-01],\n",
              "       [-1.22881985e+00,  1.81031562e-01],\n",
              "       [-3.24077674e-01,  3.61481029e-01],\n",
              "       [ 8.82245226e-01, -1.43777479e-01],\n",
              "       [ 2.23935849e+00,  1.81031562e-01],\n",
              "       [-1.53040057e+00, -3.24226945e-01],\n",
              "       [ 7.31454863e-01, -3.55077983e-02],\n",
              "       [ 1.28293413e-01, -3.60316839e-01],\n",
              "       [-4.74868037e-01, -3.60316839e-01],\n",
              "       [-1.07802949e+00,  7.27618818e-02],\n",
              "       [ 6.56059682e-01, -1.07687585e-01],\n",
              "       [-8.51843943e-01,  5.82095055e-04],\n",
              "       [ 7.31454863e-01, -2.88137052e-01],\n",
              "       [-1.37961021e+00, -3.55077983e-02],\n",
              "       [-1.15342467e+00, -3.24226945e-01],\n",
              "       [ 8.06850044e-01, -7.15976917e-02],\n",
              "       [ 2.16396331e+00,  3.25391136e-01],\n",
              "       [-9.27239124e-01,  1.81031562e-01],\n",
              "       [ 8.06850044e-01,  2.17121455e-01],\n",
              "       [-1.30421503e+00, -2.88137052e-01],\n",
              "       [ 2.08856813e+00,  5.82095055e-04],\n",
              "       [ 1.18382595e+00, -1.43777479e-01],\n",
              "       [ 2.23935849e+00, -2.52047159e-01],\n",
              "       [ 2.08856813e+00, -7.15976917e-02],\n",
              "       [ 2.01317294e+00,  7.27618818e-02],\n",
              "       [-1.45500539e+00,  1.44941669e-01],\n",
              "       [-2.24969492e-02, -2.88137052e-01],\n",
              "       [-1.45500539e+00, -1.43777479e-01],\n",
              "       [-1.53040057e+00, -7.15976917e-02],\n",
              "       [-1.45500539e+00,  5.82095055e-04],\n",
              "       [ 1.86238258e+00, -2.52047159e-01],\n",
              "       [ 8.06850044e-01, -2.52047159e-01],\n",
              "       [ 9.57640407e-01, -2.52047159e-01],\n",
              "       [ 8.82245226e-01,  2.53211349e-01],\n",
              "       [-8.51843943e-01,  2.17121455e-01],\n",
              "       [-2.24969492e-02, -3.60316839e-01],\n",
              "       [ 1.28293413e-01,  2.89301242e-01],\n",
              "       [ 5.28982320e-02,  1.48026772e+00],\n",
              "       [-1.15342467e+00, -7.57305666e-01],\n",
              "       [-5.50263218e-01,  9.75009217e-01],\n",
              "       [ 3.54478957e-01, -5.40766306e-01],\n",
              "       [ 1.28293413e-01,  1.62462730e+00],\n",
              "       [ 1.56080186e+00, -1.40692375e+00],\n",
              "       [-2.24969492e-02,  9.02829430e-01],\n",
              "       [ 6.56059682e-01, -1.47910353e+00],\n",
              "       [ 5.28982320e-02,  9.02829430e-01],\n",
              "       [-1.00263431e+00, -5.76856199e-01],\n",
              "       [-5.50263218e-01,  7.58469856e-01],\n",
              "       [-1.37961021e+00, -1.62346311e+00],\n",
              "       [-7.01053580e-01,  1.37199804e+00],\n",
              "       [ 4.29874138e-01, -1.55128332e+00],\n",
              "       [-4.74868037e-01,  8.30649643e-01],\n",
              "       [-1.45500539e+00, -1.44301364e+00],\n",
              "       [-2.48682493e-01,  7.94559750e-01],\n",
              "       [ 1.41001149e+00, -1.62346311e+00],\n",
              "       [-4.74868037e-01,  1.55244751e+00],\n",
              "       [-7.76448762e-01, -3.60316839e-01],\n",
              "       [-4.74868037e-01,  1.33590815e+00],\n",
              "       [-1.00263431e+00, -1.37083385e+00],\n",
              "       [-7.76448762e-01,  1.69680708e+00],\n",
              "       [ 7.31454863e-01, -5.04676412e-01],\n",
              "       [-4.74868037e-01,  8.66739537e-01],\n",
              "       [-3.24077674e-01, -1.00993492e+00],\n",
              "       [-3.24077674e-01,  1.44417783e+00],\n",
              "       [ 3.54478957e-01, -1.19038439e+00],\n",
              "       [ 5.28982320e-02,  1.37199804e+00],\n",
              "       [ 4.29874138e-01, -1.08211471e+00],\n",
              "       [-2.24969492e-02,  9.38919323e-01],\n",
              "       [ 6.56059682e-01, -1.22647428e+00],\n",
              "       [-8.51843943e-01,  1.40808794e+00],\n",
              "       [-9.78921305e-02, -1.65955300e+00],\n",
              "       [-6.25658399e-01,  1.01109911e+00],\n",
              "       [-3.24077674e-01, -1.62346311e+00],\n",
              "       [-6.25658399e-01,  8.30649643e-01],\n",
              "       [ 1.33461631e+00, -5.40766306e-01],\n",
              "       [-7.01053580e-01,  1.19154858e+00],\n",
              "       [-1.45500539e+00, -1.62346311e+00],\n",
              "       [-5.50263218e-01,  1.55244751e+00],\n",
              "       [ 8.82245226e-01, -8.65575346e-01],\n",
              "       [-1.73287312e-01,  9.02829430e-01],\n",
              "       [ 2.79083776e-01, -1.08211471e+00],\n",
              "       [-3.99472855e-01,  1.62462730e+00],\n",
              "       [-1.73287312e-01, -8.29485453e-01],\n",
              "       [-4.74868037e-01,  4.69750709e-01],\n",
              "       [ 1.28293413e-01, -1.33474396e+00],\n",
              "       [-7.76448762e-01,  9.02829430e-01],\n",
              "       [-1.73287312e-01, -1.44301364e+00],\n",
              "       [-1.73287312e-01,  1.51635762e+00],\n",
              "       [ 1.03303559e+00, -1.33474396e+00],\n",
              "       [-6.25658399e-01,  1.29981826e+00],\n",
              "       [ 1.48540668e+00, -1.26256417e+00],\n",
              "       [-8.51843943e-01, -1.62346311e+00],\n",
              "       [ 1.56080186e+00, -1.29865407e+00],\n",
              "       [-2.48682493e-01,  1.44417783e+00],\n",
              "       [-9.78921305e-02, -6.49035986e-01],\n",
              "       [-4.74868037e-01,  1.29981826e+00],\n",
              "       [ 5.80664501e-01, -1.26256417e+00],\n",
              "       [-7.01053580e-01,  1.37199804e+00],\n",
              "       [ 2.03688594e-01, -3.96406732e-01],\n",
              "       [-6.25658399e-01,  1.69680708e+00],\n",
              "       [ 1.18382595e+00, -9.37755133e-01],\n",
              "       [-7.76448762e-01,  6.50200176e-01],\n",
              "       [ 2.03688594e-01, -1.19038439e+00],\n",
              "       [-1.73287312e-01,  1.26372836e+00],\n",
              "       [-3.24077674e-01, -9.73845027e-01],\n",
              "       [-4.74868037e-01,  6.86290070e-01],\n",
              "       [-3.99472855e-01, -1.51519343e+00],\n",
              "       [-2.24969492e-02,  1.48026772e+00],\n",
              "       [ 6.56059682e-01, -1.22647428e+00],\n",
              "       [-2.48682493e-01,  1.04718900e+00],\n",
              "       [ 5.05269319e-01, -7.93395560e-01],\n",
              "       [-4.74868037e-01,  8.66739537e-01],\n",
              "       [-4.74868037e-01, -1.15429449e+00],\n",
              "       [-6.25658399e-01,  1.19154858e+00],\n",
              "       [-5.50263218e-01,  7.58469856e-01],\n",
              "       [-1.37961021e+00, -1.62346311e+00],\n",
              "       [-7.01053580e-01,  1.37199804e+00],\n",
              "       [ 4.29874138e-01, -1.55128332e+00],\n",
              "       [-4.74868037e-01,  8.30649643e-01],\n",
              "       [-1.45500539e+00, -1.44301364e+00],\n",
              "       [-2.48682493e-01,  7.94559750e-01],\n",
              "       [ 1.41001149e+00, -1.62346311e+00],\n",
              "       [-4.74868037e-01,  1.55244751e+00],\n",
              "       [-4.74868037e-01, -3.60316839e-01],\n",
              "       [-4.74868037e-01,  1.33590815e+00],\n",
              "       [-1.00263431e+00, -1.37083385e+00],\n",
              "       [-7.76448762e-01,  1.69680708e+00],\n",
              "       [ 7.31454863e-01, -5.04676412e-01],\n",
              "       [-4.74868037e-01,  8.66739537e-01],\n",
              "       [-3.24077674e-01, -1.00993492e+00],\n",
              "       [-3.24077674e-01,  1.44417783e+00],\n",
              "       [ 3.54478957e-01, -1.19038439e+00],\n",
              "       [ 5.28982320e-02,  1.37199804e+00],\n",
              "       [ 4.29874138e-01, -1.08211471e+00],\n",
              "       [-2.24969492e-02,  9.38919323e-01],\n",
              "       [ 6.56059682e-01, -1.22647428e+00],\n",
              "       [-8.51843943e-01,  1.40808794e+00],\n",
              "       [-9.78921305e-02, -1.62346311e+00],\n",
              "       [-6.25658399e-01,  1.01109911e+00],\n",
              "       [-6.25658399e-01, -1.65955300e+00],\n",
              "       [-6.25658399e-01,  8.30649643e-01],\n",
              "       [ 1.33461631e+00, -5.40766306e-01],\n",
              "       [-7.01053580e-01,  1.19154858e+00],\n",
              "       [-1.45500539e+00, -1.62346311e+00],\n",
              "       [-5.50263218e-01,  1.55244751e+00],\n",
              "       [ 8.82245226e-01, -8.65575346e-01],\n",
              "       [-1.73287312e-01,  9.02829430e-01],\n",
              "       [ 2.79083776e-01, -1.08211471e+00],\n",
              "       [-3.99472855e-01,  1.62462730e+00],\n",
              "       [-1.73287312e-01, -8.29485453e-01],\n",
              "       [-4.74868037e-01,  4.69750709e-01],\n",
              "       [ 1.28293413e-01, -1.33474396e+00],\n",
              "       [-7.76448762e-01,  9.02829430e-01],\n",
              "       [-1.73287312e-01, -1.44301364e+00],\n",
              "       [-1.73287312e-01,  1.51635762e+00],\n",
              "       [ 1.03303559e+00, -1.33474396e+00],\n",
              "       [-6.25658399e-01,  1.29981826e+00],\n",
              "       [ 1.48540668e+00, -1.26256417e+00],\n",
              "       [-8.51843943e-01,  6.86290070e-01],\n",
              "       [ 1.56080186e+00, -1.29865407e+00],\n",
              "       [-2.48682493e-01,  1.44417783e+00],\n",
              "       [-9.78921305e-02, -6.49035986e-01],\n",
              "       [-4.74868037e-01,  1.29981826e+00]])"
            ]
          },
          "metadata": {
            "tags": []
          },
          "execution_count": 37
        }
      ]
    },
    {
      "cell_type": "code",
      "metadata": {
        "colab": {
          "base_uri": "https://localhost:8080/"
        },
        "id": "IyHQYvOuZoER",
        "outputId": "5289e69b-114f-4cd4-b777-40940f57d476"
      },
      "source": [
        "#Clustering with KMeans\n",
        "\n",
        "from sklearn.cluster import KMeans\n",
        "kmeans1 = KMeans(n_clusters = 2, random_state=42).fit(df_std)\n",
        "labels1 = kmeans1.labels_\n",
        "labels1\n",
        "kmeans1"
      ],
      "execution_count": 44,
      "outputs": [
        {
          "output_type": "execute_result",
          "data": {
            "text/plain": [
              "KMeans(algorithm='auto', copy_x=True, init='k-means++', max_iter=300,\n",
              "       n_clusters=2, n_init=10, n_jobs=None, precompute_distances='auto',\n",
              "       random_state=42, tol=0.0001, verbose=0)"
            ]
          },
          "metadata": {
            "tags": []
          },
          "execution_count": 44
        }
      ]
    },
    {
      "cell_type": "code",
      "metadata": {
        "id": "7D7YLixdZyNJ"
      },
      "source": [
        "new_df = pd.DataFrame(data=df_std, columns=['Umur', 'Skor Belanja (1-100)'])\n",
        "new_df['label1_kmeans'] = labels1"
      ],
      "execution_count": 45,
      "outputs": []
    },
    {
      "cell_type": "code",
      "metadata": {
        "colab": {
          "base_uri": "https://localhost:8080/",
          "height": 419
        },
        "id": "5Xc0mZEDalSN",
        "outputId": "688c07de-06e8-4db0-822a-69d7fe6b519f"
      },
      "source": [
        "new_df"
      ],
      "execution_count": 46,
      "outputs": [
        {
          "output_type": "execute_result",
          "data": {
            "text/html": [
              "<div>\n",
              "<style scoped>\n",
              "    .dataframe tbody tr th:only-of-type {\n",
              "        vertical-align: middle;\n",
              "    }\n",
              "\n",
              "    .dataframe tbody tr th {\n",
              "        vertical-align: top;\n",
              "    }\n",
              "\n",
              "    .dataframe thead th {\n",
              "        text-align: right;\n",
              "    }\n",
              "</style>\n",
              "<table border=\"1\" class=\"dataframe\">\n",
              "  <thead>\n",
              "    <tr style=\"text-align: right;\">\n",
              "      <th></th>\n",
              "      <th>Umur</th>\n",
              "      <th>Skor Belanja (1-100)</th>\n",
              "      <th>label1_kmeans</th>\n",
              "    </tr>\n",
              "  </thead>\n",
              "  <tbody>\n",
              "    <tr>\n",
              "      <th>0</th>\n",
              "      <td>-1.455005</td>\n",
              "      <td>-0.396407</td>\n",
              "      <td>0</td>\n",
              "    </tr>\n",
              "    <tr>\n",
              "      <th>1</th>\n",
              "      <td>-1.304215</td>\n",
              "      <td>1.119369</td>\n",
              "      <td>0</td>\n",
              "    </tr>\n",
              "    <tr>\n",
              "      <th>2</th>\n",
              "      <td>-1.379610</td>\n",
              "      <td>-1.587373</td>\n",
              "      <td>1</td>\n",
              "    </tr>\n",
              "    <tr>\n",
              "      <th>3</th>\n",
              "      <td>-1.153425</td>\n",
              "      <td>0.975009</td>\n",
              "      <td>0</td>\n",
              "    </tr>\n",
              "    <tr>\n",
              "      <th>4</th>\n",
              "      <td>-0.550263</td>\n",
              "      <td>-0.360317</td>\n",
              "      <td>0</td>\n",
              "    </tr>\n",
              "    <tr>\n",
              "      <th>...</th>\n",
              "      <td>...</td>\n",
              "      <td>...</td>\n",
              "      <td>...</td>\n",
              "    </tr>\n",
              "    <tr>\n",
              "      <th>243</th>\n",
              "      <td>-0.851844</td>\n",
              "      <td>0.686290</td>\n",
              "      <td>0</td>\n",
              "    </tr>\n",
              "    <tr>\n",
              "      <th>244</th>\n",
              "      <td>1.560802</td>\n",
              "      <td>-1.298654</td>\n",
              "      <td>1</td>\n",
              "    </tr>\n",
              "    <tr>\n",
              "      <th>245</th>\n",
              "      <td>-0.248682</td>\n",
              "      <td>1.444178</td>\n",
              "      <td>0</td>\n",
              "    </tr>\n",
              "    <tr>\n",
              "      <th>246</th>\n",
              "      <td>-0.097892</td>\n",
              "      <td>-0.649036</td>\n",
              "      <td>1</td>\n",
              "    </tr>\n",
              "    <tr>\n",
              "      <th>247</th>\n",
              "      <td>-0.474868</td>\n",
              "      <td>1.299818</td>\n",
              "      <td>0</td>\n",
              "    </tr>\n",
              "  </tbody>\n",
              "</table>\n",
              "<p>248 rows × 3 columns</p>\n",
              "</div>"
            ],
            "text/plain": [
              "         Umur  Skor Belanja (1-100)  label1_kmeans\n",
              "0   -1.455005             -0.396407              0\n",
              "1   -1.304215              1.119369              0\n",
              "2   -1.379610             -1.587373              1\n",
              "3   -1.153425              0.975009              0\n",
              "4   -0.550263             -0.360317              0\n",
              "..        ...                   ...            ...\n",
              "243 -0.851844              0.686290              0\n",
              "244  1.560802             -1.298654              1\n",
              "245 -0.248682              1.444178              0\n",
              "246 -0.097892             -0.649036              1\n",
              "247 -0.474868              1.299818              0\n",
              "\n",
              "[248 rows x 3 columns]"
            ]
          },
          "metadata": {
            "tags": []
          },
          "execution_count": 46
        }
      ]
    },
    {
      "cell_type": "code",
      "metadata": {
        "colab": {
          "base_uri": "https://localhost:8080/",
          "height": 513
        },
        "id": "im6ytLzNa4NC",
        "outputId": "db30262e-ea4a-448c-f794-d0e908e29042"
      },
      "source": [
        "plt.figure(figsize=(12,8))\n",
        "\n",
        "plt.scatter(new_df['Umur'][new_df.label1_kmeans == 0], new_df['Skor Belanja (1-100)'][new_df.label1_kmeans == 0], c='blue', s=100, edgecolor='green')\n",
        "plt.scatter(new_df['Umur'][new_df.label1_kmeans == 1], new_df['Skor Belanja (1-100)'][new_df.label1_kmeans == 1], c='red', s=100, edgecolor='green')\n",
        "\n",
        "plt.scatter(kmeans1.cluster_centers_[:, 0],kmeans1.cluster_centers_[:, 1], c='k', s=300 )\n",
        "plt.title('n_cluster =2')\n",
        "plt.xlabel('Umur')\n",
        "plt.ylabel('Skor Belanja (1-100)')\n",
        "\n",
        "plt.show()"
      ],
      "execution_count": 70,
      "outputs": [
        {
          "output_type": "display_data",
          "data": {
            "image/png": "[encoded data removed]",
            "text/plain": [
              "<Figure size 864x576 with 1 Axes>"
            ]
          },
          "metadata": {
            "tags": [],
            "needs_background": "light"
          }
        }
      ]
    },
    {
      "cell_type": "code",
      "metadata": {
        "colab": {
          "base_uri": "https://localhost:8080/",
          "height": 295
        },
        "id": "J4Ztx7kHbS0T",
        "outputId": "0dfbc471-a130-495e-cc66-fb740cc1ada6"
      },
      "source": [
        "wcss = []\n",
        "for i in range(1,11):\n",
        "  kmeans = KMeans(n_clusters=i, init='k-means++', random_state= 42)\n",
        "  kmeans.fit(df_std)\n",
        "  wcss.append(kmeans.inertia_)\n",
        "\n",
        "plt.plot(range(1,11), wcss)\n",
        "plt.title('Elbow Method')\n",
        "plt.xlabel('number of cluster')\n",
        "plt.ylabel('wcss')\n",
        "\n",
        "plt.show()"
      ],
      "execution_count": 59,
      "outputs": [
        {
          "output_type": "display_data",
          "data": {
            "image/png": "[encoded data removed]",
            "text/plain": [
              "<Figure size 432x288 with 1 Axes>"
            ]
          },
          "metadata": {
            "tags": [],
            "needs_background": "light"
          }
        }
      ]
    },
    {
      "cell_type": "code",
      "metadata": {
        "colab": {
          "base_uri": "https://localhost:8080/"
        },
        "id": "FKsK9ioHcKo0",
        "outputId": "a574074a-ff03-40c8-b2c7-315851824678"
      },
      "source": [
        "kmeans2 = KMeans(n_clusters = 3, init='k-means++', random_state=42).fit(df_std)\n",
        "labels2 = kmeans2.labels_\n",
        "labels2"
      ],
      "execution_count": 58,
      "outputs": [
        {
          "output_type": "execute_result",
          "data": {
            "text/plain": [
              "array([2, 0, 2, 0, 2, 0, 2, 0, 1, 0, 1, 0, 1, 0, 2, 0, 0, 1, 0, 2, 0, 2,\n",
              "       0, 1, 0, 1, 0, 2, 0, 1, 0, 1, 0, 1, 0, 2, 0, 2, 0, 1, 0, 1, 0, 1,\n",
              "       0, 1, 2, 2, 2, 1, 0, 0, 1, 1, 1, 1, 1, 0, 1, 1, 0, 1, 1, 1, 0, 1,\n",
              "       1, 0, 2, 1, 1, 1, 1, 1, 0, 1, 2, 0, 1, 1, 0, 1, 1, 0, 1, 1, 0, 0,\n",
              "       1, 1, 2, 1, 2, 2, 0, 1, 0, 1, 0, 2, 1, 1, 0, 1, 2, 1, 1, 1, 1, 1,\n",
              "       0, 2, 2, 0, 0, 1, 1, 1, 1, 0, 2, 0, 0, 2, 0, 2, 0, 1, 0, 1, 0, 2,\n",
              "       0, 2, 0, 2, 0, 2, 0, 1, 0, 2, 0, 2, 0, 1, 0, 2, 0, 2, 0, 2, 0, 1,\n",
              "       0, 2, 0, 2, 0, 1, 0, 2, 0, 1, 0, 2, 0, 2, 0, 2, 0, 2, 0, 1, 0, 1,\n",
              "       2, 1, 0, 2, 0, 1, 0, 2, 0, 1, 0, 2, 0, 2, 0, 2, 0, 1, 0, 1, 0, 2,\n",
              "       0, 0, 2, 0, 2, 0, 2, 0, 1, 0, 2, 0, 2, 0, 1, 0, 2, 0, 2, 0, 2, 0,\n",
              "       1, 0, 2, 0, 2, 0, 1, 0, 2, 0, 1, 0, 2, 0, 2, 0, 2, 0, 2, 0, 1, 0,\n",
              "       1, 0, 1, 0, 2, 0], dtype=int32)"
            ]
          },
          "metadata": {
            "tags": []
          },
          "execution_count": 58
        }
      ]
    },
    {
      "cell_type": "code",
      "metadata": {
        "colab": {
          "base_uri": "https://localhost:8080/",
          "height": 419
        },
        "id": "Gl50KmLTcU-8",
        "outputId": "08f907ba-d627-4b96-f8b2-0a2342c1bc6e"
      },
      "source": [
        "new_df['label2_kmeans'] = labels2\n",
        "new_df"
      ],
      "execution_count": 61,
      "outputs": [
        {
          "output_type": "execute_result",
          "data": {
            "text/html": [
              "<div>\n",
              "<style scoped>\n",
              "    .dataframe tbody tr th:only-of-type {\n",
              "        vertical-align: middle;\n",
              "    }\n",
              "\n",
              "    .dataframe tbody tr th {\n",
              "        vertical-align: top;\n",
              "    }\n",
              "\n",
              "    .dataframe thead th {\n",
              "        text-align: right;\n",
              "    }\n",
              "</style>\n",
              "<table border=\"1\" class=\"dataframe\">\n",
              "  <thead>\n",
              "    <tr style=\"text-align: right;\">\n",
              "      <th></th>\n",
              "      <th>Umur</th>\n",
              "      <th>Skor Belanja (1-100)</th>\n",
              "      <th>label1_kmeans</th>\n",
              "      <th>label2_kmeans</th>\n",
              "    </tr>\n",
              "  </thead>\n",
              "  <tbody>\n",
              "    <tr>\n",
              "      <th>0</th>\n",
              "      <td>-1.455005</td>\n",
              "      <td>-0.396407</td>\n",
              "      <td>0</td>\n",
              "      <td>2</td>\n",
              "    </tr>\n",
              "    <tr>\n",
              "      <th>1</th>\n",
              "      <td>-1.304215</td>\n",
              "      <td>1.119369</td>\n",
              "      <td>0</td>\n",
              "      <td>0</td>\n",
              "    </tr>\n",
              "    <tr>\n",
              "      <th>2</th>\n",
              "      <td>-1.379610</td>\n",
              "      <td>-1.587373</td>\n",
              "      <td>1</td>\n",
              "      <td>2</td>\n",
              "    </tr>\n",
              "    <tr>\n",
              "      <th>3</th>\n",
              "      <td>-1.153425</td>\n",
              "      <td>0.975009</td>\n",
              "      <td>0</td>\n",
              "      <td>0</td>\n",
              "    </tr>\n",
              "    <tr>\n",
              "      <th>4</th>\n",
              "      <td>-0.550263</td>\n",
              "      <td>-0.360317</td>\n",
              "      <td>0</td>\n",
              "      <td>2</td>\n",
              "    </tr>\n",
              "    <tr>\n",
              "      <th>...</th>\n",
              "      <td>...</td>\n",
              "      <td>...</td>\n",
              "      <td>...</td>\n",
              "      <td>...</td>\n",
              "    </tr>\n",
              "    <tr>\n",
              "      <th>243</th>\n",
              "      <td>-0.851844</td>\n",
              "      <td>0.686290</td>\n",
              "      <td>0</td>\n",
              "      <td>0</td>\n",
              "    </tr>\n",
              "    <tr>\n",
              "      <th>244</th>\n",
              "      <td>1.560802</td>\n",
              "      <td>-1.298654</td>\n",
              "      <td>1</td>\n",
              "      <td>1</td>\n",
              "    </tr>\n",
              "    <tr>\n",
              "      <th>245</th>\n",
              "      <td>-0.248682</td>\n",
              "      <td>1.444178</td>\n",
              "      <td>0</td>\n",
              "      <td>0</td>\n",
              "    </tr>\n",
              "    <tr>\n",
              "      <th>246</th>\n",
              "      <td>-0.097892</td>\n",
              "      <td>-0.649036</td>\n",
              "      <td>1</td>\n",
              "      <td>2</td>\n",
              "    </tr>\n",
              "    <tr>\n",
              "      <th>247</th>\n",
              "      <td>-0.474868</td>\n",
              "      <td>1.299818</td>\n",
              "      <td>0</td>\n",
              "      <td>0</td>\n",
              "    </tr>\n",
              "  </tbody>\n",
              "</table>\n",
              "<p>248 rows × 4 columns</p>\n",
              "</div>"
            ],
            "text/plain": [
              "         Umur  Skor Belanja (1-100)  label1_kmeans  label2_kmeans\n",
              "0   -1.455005             -0.396407              0              2\n",
              "1   -1.304215              1.119369              0              0\n",
              "2   -1.379610             -1.587373              1              2\n",
              "3   -1.153425              0.975009              0              0\n",
              "4   -0.550263             -0.360317              0              2\n",
              "..        ...                   ...            ...            ...\n",
              "243 -0.851844              0.686290              0              0\n",
              "244  1.560802             -1.298654              1              1\n",
              "245 -0.248682              1.444178              0              0\n",
              "246 -0.097892             -0.649036              1              2\n",
              "247 -0.474868              1.299818              0              0\n",
              "\n",
              "[248 rows x 4 columns]"
            ]
          },
          "metadata": {
            "tags": []
          },
          "execution_count": 61
        }
      ]
    },
    {
      "cell_type": "code",
      "metadata": {
        "colab": {
          "base_uri": "https://localhost:8080/",
          "height": 513
        },
        "id": "HYSLLBO_cYJd",
        "outputId": "93303e88-340f-4065-b957-c3d8675a5293"
      },
      "source": [
        "plt.figure(figsize=(12,8))\n",
        "\n",
        "plt.scatter(new_df['Umur'][new_df.label2_kmeans == 0], new_df['Skor Belanja (1-100)'][new_df.label2_kmeans == 0], c='blue', s=100, edgecolor='green')\n",
        "plt.scatter(new_df['Umur'][new_df.label2_kmeans == 1], new_df['Skor Belanja (1-100)'][new_df.label2_kmeans == 1], c='red', s=100, edgecolor='green')\n",
        "plt.scatter(new_df['Umur'][new_df.label2_kmeans == 2], new_df['Skor Belanja (1-100)'][new_df.label2_kmeans == 2], c='green', s=100, edgecolor='green')\n",
        "plt.scatter(new_df['Umur'][new_df.label2_kmeans == 3], new_df['Skor Belanja (1-100)'][new_df.label2_kmeans == 3], c='yellow', s=100, edgecolor='green')\n",
        "\n",
        "plt.scatter(kmeans2.cluster_centers_[:, 0],kmeans2.cluster_centers_[:, 1], c='k', s=300 )\n",
        "plt.title('n_cluster =3')\n",
        "plt.xlabel('Umur')\n",
        "plt.ylabel('Skor Belanja (1-100)')\n",
        "\n",
        "plt.show()"
      ],
      "execution_count": 75,
      "outputs": [
        {
          "output_type": "display_data",
          "data": {
            "image/png": "[encoded data removed]",
            "text/plain": [
              "<Figure size 864x576 with 1 Axes>"
            ]
          },
          "metadata": {
            "tags": [],
            "needs_background": "light"
          }
        }
      ]
    },
    {
      "cell_type": "markdown",
      "metadata": {
        "id": "Fo1GIiVdFP4j"
      },
      "source": [
        "Expected output:\n",
        "\n",
        "n_cluster =2\n",
        "\n",
        "![](https://drive.google.com/uc?id=1RHedPeGR48w-cWl7WWkIsHTSB2DRgynO)\n",
        "\n",
        "\n",
        "Elbow graph\n",
        "\n",
        "![](https://drive.google.com/uc?id=1S3_uvQWzJCi8YwSBbpu2imKbUBZ3JdmV)\n",
        "\n",
        "n_cluster =3\n",
        "\n",
        "![](https://drive.google.com/uc?id=1EVMDQgPpC8vYpfxilyiJMRDNIr-JXULd)"
      ]
    },
    {
      "cell_type": "markdown",
      "metadata": {
        "id": "5xpMIoEcm8MM"
      },
      "source": [
        "\n",
        "\n",
        "---\n",
        "\n",
        "\n",
        "\n",
        "---\n",
        "\n",
        "\n",
        "\n",
        "---\n",
        "\n"
      ]
    },
    {
      "cell_type": "markdown",
      "metadata": {
        "id": "pt-NFlqTm-Og"
      },
      "source": [
        "# Soal 3. Analisa Data Hasil Clustering\n",
        "\n",
        "Dari hasil klustering diatas, buatlah sebuah analisa segmentasi pelanggan untuk kemajuan supermarket. "
      ]
    },
    {
      "cell_type": "markdown",
      "metadata": {
        "id": "zNPDstJynpva"
      },
      "source": [
        "Jawab disini: "
      ]
    }
  ]
}