{
  "nbformat": 4,
  "nbformat_minor": 0,
  "metadata": {
    "kernelspec": {
      "display_name": "Python 3",
      "language": "python",
      "name": "python3"
    },
    "language_info": {
      "codemirror_mode": {
        "name": "ipython",
        "version": 3
      },
      "file_extension": ".py",
      "mimetype": "text/x-python",
      "name": "python",
      "nbconvert_exporter": "python",
      "pygments_lexer": "ipython3",
      "version": "3.7.7"
    },
    "colab": {
      "name": "Tugas Hari 2 Pekan 2.ipynb",
      "provenance": []
    }
  },
  "cells": [
    {
      "cell_type": "code",
      "metadata": {
        "id": "GyakVoXhBGrv",
        "colab": {
          "base_uri": "https://localhost:8080/",
          "height": 204
        },
        "outputId": "a6df9abc-278c-4562-8c14-f75d5223a144"
      },
      "source": [
        "# Persiapan membuat data\n",
        "import pandas as pd\n",
        "import random\n",
        "\n",
        "pelajaran = ['Matematika', 'Fisika', 'Biologi', 'Kimia', 'Geologi', 'Ekonomi']\n",
        "kelas = ['12A', '12B', '12C', '12D']\n",
        "\n",
        "hasil_nilai = {\n",
        "    'siswa_id' : range(1, 21),\n",
        "    'pelajaran' : [random.choice(pelajaran) for i in range(20)],\n",
        "    'nilai' : [random.choice(range(0, 100)) for i in range(20)],\n",
        "    'jenis-kelamin' : [random.choice(['laki-laki', 'perempuan']) for i in range(20)],\n",
        "    'kelas' : [random.choice(kelas) for i in range(20)]\n",
        "}\n",
        "\n",
        "df = pd.DataFrame(hasil_nilai)\n",
        "df.head()"
      ],
      "execution_count": 2,
      "outputs": [
        {
          "output_type": "execute_result",
          "data": {
            "text/html": [
              "<div>\n",
              "<style scoped>\n",
              "    .dataframe tbody tr th:only-of-type {\n",
              "        vertical-align: middle;\n",
              "    }\n",
              "\n",
              "    .dataframe tbody tr th {\n",
              "        vertical-align: top;\n",
              "    }\n",
              "\n",
              "    .dataframe thead th {\n",
              "        text-align: right;\n",
              "    }\n",
              "</style>\n",
              "<table border=\"1\" class=\"dataframe\">\n",
              "  <thead>\n",
              "    <tr style=\"text-align: right;\">\n",
              "      <th></th>\n",
              "      <th>siswa_id</th>\n",
              "      <th>pelajaran</th>\n",
              "      <th>nilai</th>\n",
              "      <th>jenis-kelamin</th>\n",
              "      <th>kelas</th>\n",
              "    </tr>\n",
              "  </thead>\n",
              "  <tbody>\n",
              "    <tr>\n",
              "      <th>0</th>\n",
              "      <td>1</td>\n",
              "      <td>Geologi</td>\n",
              "      <td>91</td>\n",
              "      <td>laki-laki</td>\n",
              "      <td>12A</td>\n",
              "    </tr>\n",
              "    <tr>\n",
              "      <th>1</th>\n",
              "      <td>2</td>\n",
              "      <td>Fisika</td>\n",
              "      <td>61</td>\n",
              "      <td>perempuan</td>\n",
              "      <td>12B</td>\n",
              "    </tr>\n",
              "    <tr>\n",
              "      <th>2</th>\n",
              "      <td>3</td>\n",
              "      <td>Kimia</td>\n",
              "      <td>71</td>\n",
              "      <td>laki-laki</td>\n",
              "      <td>12D</td>\n",
              "    </tr>\n",
              "    <tr>\n",
              "      <th>3</th>\n",
              "      <td>4</td>\n",
              "      <td>Geologi</td>\n",
              "      <td>5</td>\n",
              "      <td>perempuan</td>\n",
              "      <td>12D</td>\n",
              "    </tr>\n",
              "    <tr>\n",
              "      <th>4</th>\n",
              "      <td>5</td>\n",
              "      <td>Kimia</td>\n",
              "      <td>67</td>\n",
              "      <td>laki-laki</td>\n",
              "      <td>12A</td>\n",
              "    </tr>\n",
              "  </tbody>\n",
              "</table>\n",
              "</div>"
            ],
            "text/plain": [
              "   siswa_id pelajaran  nilai jenis-kelamin kelas\n",
              "0         1   Geologi     91     laki-laki   12A\n",
              "1         2    Fisika     61     perempuan   12B\n",
              "2         3     Kimia     71     laki-laki   12D\n",
              "3         4   Geologi      5     perempuan   12D\n",
              "4         5     Kimia     67     laki-laki   12A"
            ]
          },
          "metadata": {
            "tags": []
          },
          "execution_count": 2
        }
      ]
    },
    {
      "cell_type": "markdown",
      "metadata": {
        "id": "aNoScqypBGr5"
      },
      "source": [
        "<h2>Soal 1: Indexing</h2>\n",
        "\n",
        "1. Lakukan indexing terhadap dataframe untuk mengakses column nilai dan kelas saja\n",
        "2. Lakukan indexing terhadap dataframe untuk mengakses row 5 sampai 10 beserta column pelajaran dan nilai"
      ]
    },
    {
      "cell_type": "code",
      "metadata": {
        "id": "rKmgvnS2BGr6",
        "colab": {
          "base_uri": "https://localhost:8080/",
          "height": 235
        },
        "outputId": "0313e76b-b127-4ef3-df47-63c6daf3dd14"
      },
      "source": [
        "# code here\n",
        "df_nilai_kelas = df[{'nilai','kelas'}]\n",
        "df_nilai_kelas.head()\n",
        "\n"
      ],
      "execution_count": 5,
      "outputs": [
        {
          "output_type": "execute_result",
          "data": {
            "text/html": [
              "<div>\n",
              "<style scoped>\n",
              "    .dataframe tbody tr th:only-of-type {\n",
              "        vertical-align: middle;\n",
              "    }\n",
              "\n",
              "    .dataframe tbody tr th {\n",
              "        vertical-align: top;\n",
              "    }\n",
              "\n",
              "    .dataframe thead th {\n",
              "        text-align: right;\n",
              "    }\n",
              "</style>\n",
              "<table border=\"1\" class=\"dataframe\">\n",
              "  <thead>\n",
              "    <tr style=\"text-align: right;\">\n",
              "      <th></th>\n",
              "      <th>nilai</th>\n",
              "      <th>pelajaran</th>\n",
              "    </tr>\n",
              "  </thead>\n",
              "  <tbody>\n",
              "    <tr>\n",
              "      <th>5</th>\n",
              "      <td>69</td>\n",
              "      <td>Geologi</td>\n",
              "    </tr>\n",
              "    <tr>\n",
              "      <th>6</th>\n",
              "      <td>68</td>\n",
              "      <td>Geologi</td>\n",
              "    </tr>\n",
              "    <tr>\n",
              "      <th>7</th>\n",
              "      <td>7</td>\n",
              "      <td>Ekonomi</td>\n",
              "    </tr>\n",
              "    <tr>\n",
              "      <th>8</th>\n",
              "      <td>82</td>\n",
              "      <td>Biologi</td>\n",
              "    </tr>\n",
              "    <tr>\n",
              "      <th>9</th>\n",
              "      <td>60</td>\n",
              "      <td>Ekonomi</td>\n",
              "    </tr>\n",
              "    <tr>\n",
              "      <th>10</th>\n",
              "      <td>23</td>\n",
              "      <td>Matematika</td>\n",
              "    </tr>\n",
              "  </tbody>\n",
              "</table>\n",
              "</div>"
            ],
            "text/plain": [
              "    nilai   pelajaran\n",
              "5      69     Geologi\n",
              "6      68     Geologi\n",
              "7       7     Ekonomi\n",
              "8      82     Biologi\n",
              "9      60     Ekonomi\n",
              "10     23  Matematika"
            ]
          },
          "metadata": {
            "tags": []
          },
          "execution_count": 5
        }
      ]
    },
    {
      "cell_type": "code",
      "metadata": {
        "colab": {
          "base_uri": "https://localhost:8080/",
          "height": 235
        },
        "id": "yi8bUGl9aTN-",
        "outputId": "27e6614a-437f-4ff0-c040-100ff00284e8"
      },
      "source": [
        "df_pelj_nilai = df[{'pelajaran','nilai'}]\n",
        "df_pelj_nilai.iloc[5:11]"
      ],
      "execution_count": 6,
      "outputs": [
        {
          "output_type": "execute_result",
          "data": {
            "text/html": [
              "<div>\n",
              "<style scoped>\n",
              "    .dataframe tbody tr th:only-of-type {\n",
              "        vertical-align: middle;\n",
              "    }\n",
              "\n",
              "    .dataframe tbody tr th {\n",
              "        vertical-align: top;\n",
              "    }\n",
              "\n",
              "    .dataframe thead th {\n",
              "        text-align: right;\n",
              "    }\n",
              "</style>\n",
              "<table border=\"1\" class=\"dataframe\">\n",
              "  <thead>\n",
              "    <tr style=\"text-align: right;\">\n",
              "      <th></th>\n",
              "      <th>nilai</th>\n",
              "      <th>pelajaran</th>\n",
              "    </tr>\n",
              "  </thead>\n",
              "  <tbody>\n",
              "    <tr>\n",
              "      <th>5</th>\n",
              "      <td>69</td>\n",
              "      <td>Geologi</td>\n",
              "    </tr>\n",
              "    <tr>\n",
              "      <th>6</th>\n",
              "      <td>68</td>\n",
              "      <td>Geologi</td>\n",
              "    </tr>\n",
              "    <tr>\n",
              "      <th>7</th>\n",
              "      <td>7</td>\n",
              "      <td>Ekonomi</td>\n",
              "    </tr>\n",
              "    <tr>\n",
              "      <th>8</th>\n",
              "      <td>82</td>\n",
              "      <td>Biologi</td>\n",
              "    </tr>\n",
              "    <tr>\n",
              "      <th>9</th>\n",
              "      <td>60</td>\n",
              "      <td>Ekonomi</td>\n",
              "    </tr>\n",
              "    <tr>\n",
              "      <th>10</th>\n",
              "      <td>23</td>\n",
              "      <td>Matematika</td>\n",
              "    </tr>\n",
              "  </tbody>\n",
              "</table>\n",
              "</div>"
            ],
            "text/plain": [
              "    nilai   pelajaran\n",
              "5      69     Geologi\n",
              "6      68     Geologi\n",
              "7       7     Ekonomi\n",
              "8      82     Biologi\n",
              "9      60     Ekonomi\n",
              "10     23  Matematika"
            ]
          },
          "metadata": {
            "tags": []
          },
          "execution_count": 6
        }
      ]
    },
    {
      "cell_type": "markdown",
      "metadata": {
        "id": "F55zUl5GBGr_"
      },
      "source": [
        "<h2>Soal 2: Filter DataFrame Dengan Boolean</h2>\n",
        "\n",
        "1. Tampilkan semua data siswa pada mata pelajaran Ekonomi dan Fisika\n",
        "2. Tampilkan semua data siswa yang mempunyai nilai lebih dari 50 di mata pelajaran Kimia \n",
        "3. Tampilkan semua data yang mempunyai nilai lebih dari 70, berjnis kelamin perempuan dan di kelas 12C"
      ]
    },
    {
      "cell_type": "code",
      "metadata": {
        "id": "eB5oSf_KBGsA",
        "colab": {
          "base_uri": "https://localhost:8080/",
          "height": 297
        },
        "outputId": "0f0ecbdf-5c73-4120-f8ff-82285479b85a"
      },
      "source": [
        "# code here\n",
        "fisika = df['pelajaran'] == 'Fisika'\n",
        "ekonomi = df['pelajaran'] == 'Ekonomi'\n",
        "df[fisika | ekonomi]"
      ],
      "execution_count": 7,
      "outputs": [
        {
          "output_type": "execute_result",
          "data": {
            "text/html": [
              "<div>\n",
              "<style scoped>\n",
              "    .dataframe tbody tr th:only-of-type {\n",
              "        vertical-align: middle;\n",
              "    }\n",
              "\n",
              "    .dataframe tbody tr th {\n",
              "        vertical-align: top;\n",
              "    }\n",
              "\n",
              "    .dataframe thead th {\n",
              "        text-align: right;\n",
              "    }\n",
              "</style>\n",
              "<table border=\"1\" class=\"dataframe\">\n",
              "  <thead>\n",
              "    <tr style=\"text-align: right;\">\n",
              "      <th></th>\n",
              "      <th>siswa_id</th>\n",
              "      <th>pelajaran</th>\n",
              "      <th>nilai</th>\n",
              "      <th>jenis-kelamin</th>\n",
              "      <th>kelas</th>\n",
              "    </tr>\n",
              "  </thead>\n",
              "  <tbody>\n",
              "    <tr>\n",
              "      <th>1</th>\n",
              "      <td>2</td>\n",
              "      <td>Fisika</td>\n",
              "      <td>61</td>\n",
              "      <td>perempuan</td>\n",
              "      <td>12B</td>\n",
              "    </tr>\n",
              "    <tr>\n",
              "      <th>7</th>\n",
              "      <td>8</td>\n",
              "      <td>Ekonomi</td>\n",
              "      <td>7</td>\n",
              "      <td>laki-laki</td>\n",
              "      <td>12D</td>\n",
              "    </tr>\n",
              "    <tr>\n",
              "      <th>9</th>\n",
              "      <td>10</td>\n",
              "      <td>Ekonomi</td>\n",
              "      <td>60</td>\n",
              "      <td>perempuan</td>\n",
              "      <td>12B</td>\n",
              "    </tr>\n",
              "    <tr>\n",
              "      <th>12</th>\n",
              "      <td>13</td>\n",
              "      <td>Ekonomi</td>\n",
              "      <td>83</td>\n",
              "      <td>laki-laki</td>\n",
              "      <td>12B</td>\n",
              "    </tr>\n",
              "    <tr>\n",
              "      <th>13</th>\n",
              "      <td>14</td>\n",
              "      <td>Fisika</td>\n",
              "      <td>16</td>\n",
              "      <td>laki-laki</td>\n",
              "      <td>12A</td>\n",
              "    </tr>\n",
              "    <tr>\n",
              "      <th>15</th>\n",
              "      <td>16</td>\n",
              "      <td>Fisika</td>\n",
              "      <td>66</td>\n",
              "      <td>perempuan</td>\n",
              "      <td>12D</td>\n",
              "    </tr>\n",
              "    <tr>\n",
              "      <th>18</th>\n",
              "      <td>19</td>\n",
              "      <td>Ekonomi</td>\n",
              "      <td>32</td>\n",
              "      <td>laki-laki</td>\n",
              "      <td>12B</td>\n",
              "    </tr>\n",
              "    <tr>\n",
              "      <th>19</th>\n",
              "      <td>20</td>\n",
              "      <td>Ekonomi</td>\n",
              "      <td>67</td>\n",
              "      <td>perempuan</td>\n",
              "      <td>12C</td>\n",
              "    </tr>\n",
              "  </tbody>\n",
              "</table>\n",
              "</div>"
            ],
            "text/plain": [
              "    siswa_id pelajaran  nilai jenis-kelamin kelas\n",
              "1          2    Fisika     61     perempuan   12B\n",
              "7          8   Ekonomi      7     laki-laki   12D\n",
              "9         10   Ekonomi     60     perempuan   12B\n",
              "12        13   Ekonomi     83     laki-laki   12B\n",
              "13        14    Fisika     16     laki-laki   12A\n",
              "15        16    Fisika     66     perempuan   12D\n",
              "18        19   Ekonomi     32     laki-laki   12B\n",
              "19        20   Ekonomi     67     perempuan   12C"
            ]
          },
          "metadata": {
            "tags": []
          },
          "execution_count": 7
        }
      ]
    },
    {
      "cell_type": "code",
      "metadata": {
        "colab": {
          "base_uri": "https://localhost:8080/",
          "height": 111
        },
        "id": "HrSD4aXIadn2",
        "outputId": "770fe7a0-0e41-404b-cdf7-9ad5020b989c"
      },
      "source": [
        "kimia = df['pelajaran'] == 'Kimia'\n",
        "nilai50 = df['nilai'] > 50\n",
        "df[kimia & nilai50]"
      ],
      "execution_count": 8,
      "outputs": [
        {
          "output_type": "execute_result",
          "data": {
            "text/html": [
              "<div>\n",
              "<style scoped>\n",
              "    .dataframe tbody tr th:only-of-type {\n",
              "        vertical-align: middle;\n",
              "    }\n",
              "\n",
              "    .dataframe tbody tr th {\n",
              "        vertical-align: top;\n",
              "    }\n",
              "\n",
              "    .dataframe thead th {\n",
              "        text-align: right;\n",
              "    }\n",
              "</style>\n",
              "<table border=\"1\" class=\"dataframe\">\n",
              "  <thead>\n",
              "    <tr style=\"text-align: right;\">\n",
              "      <th></th>\n",
              "      <th>siswa_id</th>\n",
              "      <th>pelajaran</th>\n",
              "      <th>nilai</th>\n",
              "      <th>jenis-kelamin</th>\n",
              "      <th>kelas</th>\n",
              "    </tr>\n",
              "  </thead>\n",
              "  <tbody>\n",
              "    <tr>\n",
              "      <th>2</th>\n",
              "      <td>3</td>\n",
              "      <td>Kimia</td>\n",
              "      <td>71</td>\n",
              "      <td>laki-laki</td>\n",
              "      <td>12D</td>\n",
              "    </tr>\n",
              "    <tr>\n",
              "      <th>4</th>\n",
              "      <td>5</td>\n",
              "      <td>Kimia</td>\n",
              "      <td>67</td>\n",
              "      <td>laki-laki</td>\n",
              "      <td>12A</td>\n",
              "    </tr>\n",
              "  </tbody>\n",
              "</table>\n",
              "</div>"
            ],
            "text/plain": [
              "   siswa_id pelajaran  nilai jenis-kelamin kelas\n",
              "2         3     Kimia     71     laki-laki   12D\n",
              "4         5     Kimia     67     laki-laki   12A"
            ]
          },
          "metadata": {
            "tags": []
          },
          "execution_count": 8
        }
      ]
    },
    {
      "cell_type": "code",
      "metadata": {
        "colab": {
          "base_uri": "https://localhost:8080/",
          "height": 49
        },
        "id": "zKsNMUYiae6D",
        "outputId": "18953d58-6a9d-4141-fc76-a98e7fa41746"
      },
      "source": [
        "perempuan = df['jenis-kelamin'] == 'perempuan'\n",
        "nilai70 = df['nilai'] > 70\n",
        "kelas12C = df['kelas'] == '12C'\n",
        "df[perempuan & nilai70 & kelas12C]"
      ],
      "execution_count": 9,
      "outputs": [
        {
          "output_type": "execute_result",
          "data": {
            "text/html": [
              "<div>\n",
              "<style scoped>\n",
              "    .dataframe tbody tr th:only-of-type {\n",
              "        vertical-align: middle;\n",
              "    }\n",
              "\n",
              "    .dataframe tbody tr th {\n",
              "        vertical-align: top;\n",
              "    }\n",
              "\n",
              "    .dataframe thead th {\n",
              "        text-align: right;\n",
              "    }\n",
              "</style>\n",
              "<table border=\"1\" class=\"dataframe\">\n",
              "  <thead>\n",
              "    <tr style=\"text-align: right;\">\n",
              "      <th></th>\n",
              "      <th>siswa_id</th>\n",
              "      <th>pelajaran</th>\n",
              "      <th>nilai</th>\n",
              "      <th>jenis-kelamin</th>\n",
              "      <th>kelas</th>\n",
              "    </tr>\n",
              "  </thead>\n",
              "  <tbody>\n",
              "  </tbody>\n",
              "</table>\n",
              "</div>"
            ],
            "text/plain": [
              "Empty DataFrame\n",
              "Columns: [siswa_id, pelajaran, nilai, jenis-kelamin, kelas]\n",
              "Index: []"
            ]
          },
          "metadata": {
            "tags": []
          },
          "execution_count": 9
        }
      ]
    },
    {
      "cell_type": "markdown",
      "metadata": {
        "id": "6Od6R3H1BGsE"
      },
      "source": [
        "<h2>Soal 3: Data Transformation</h2>\n",
        "\n",
        "lakukan data transformasi terhadap column 'nilai' dengan fungsi transformasi, berikut rumus dari normalisasi\n",
        "\n",
        "![alt text](https://drive.google.com/uc?id=1wed-EbRSTA0JP1ceDp6lcKBqH2yJ4aa3)"
      ]
    },
    {
      "cell_type": "code",
      "metadata": {
        "id": "qeV_iH8nBGsF"
      },
      "source": [
        "# code here\n",
        "def normalize(x):\n",
        "    a = x - x.min()\n",
        "    b = x.max() - x.min()\n",
        "    return a/b"
      ],
      "execution_count": 10,
      "outputs": []
    },
    {
      "cell_type": "code",
      "metadata": {
        "colab": {
          "base_uri": "https://localhost:8080/"
        },
        "id": "WXCSOre0akfJ",
        "outputId": "1f0eb1ec-6f6c-497e-c272-36bda31c1e2a"
      },
      "source": [
        "print(df[['nilai']].apply(normalize))"
      ],
      "execution_count": 11,
      "outputs": [
        {
          "output_type": "stream",
          "text": [
            "       nilai\n",
            "0   1.000000\n",
            "1   0.651163\n",
            "2   0.767442\n",
            "3   0.000000\n",
            "4   0.720930\n",
            "5   0.744186\n",
            "6   0.732558\n",
            "7   0.023256\n",
            "8   0.895349\n",
            "9   0.639535\n",
            "10  0.209302\n",
            "11  0.848837\n",
            "12  0.906977\n",
            "13  0.127907\n",
            "14  0.488372\n",
            "15  0.709302\n",
            "16  0.848837\n",
            "17  0.267442\n",
            "18  0.313953\n",
            "19  0.720930\n"
          ],
          "name": "stdout"
        }
      ]
    }
  ]
}