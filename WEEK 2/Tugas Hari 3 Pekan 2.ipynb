{
  "nbformat": 4,
  "nbformat_minor": 0,
  "metadata": {
    "kernelspec": {
      "display_name": "Python 3",
      "language": "python",
      "name": "python3"
    },
    "language_info": {
      "codemirror_mode": {
        "name": "ipython",
        "version": 3
      },
      "file_extension": ".py",
      "mimetype": "text/x-python",
      "name": "python",
      "nbconvert_exporter": "python",
      "pygments_lexer": "ipython3",
      "version": "3.7.7"
    },
    "colab": {
      "name": "Tugas Hari 3 Pekan 2.ipynb",
      "provenance": [],
      "collapsed_sections": []
    }
  },
  "cells": [
    {
      "cell_type": "markdown",
      "metadata": {
        "id": "0kQhZ-5bKrxR"
      },
      "source": [
        "<h2>Soal 1: Pivoting and Melting</h2>\n",
        "\n",
        "Jelaskan itu pivoting dan melting data"
      ]
    },
    {
      "cell_type": "markdown",
      "metadata": {
        "id": "O7OpqeB9KrxX"
      },
      "source": [
        "jawaban:\n",
        "\n",
        "---Pivoting adalah suatu pengubahan bentuk data dengan memutar data yang terletak di baris menjadi di column.\n",
        "\n",
        "\n",
        "\n",
        "---Melting adalah ‘unpivoting’, melting mengubah suatu data dengan memutar dari yang tadinya berada di posisi column menjadi di posisi row.\n",
        "\n",
        "\n",
        "\n",
        "\n"
      ]
    },
    {
      "cell_type": "markdown",
      "metadata": {
        "id": "jImnOOlTKrxa"
      },
      "source": [
        "<h2>Soal 2: Data structure Comprehension</h2>\n",
        "\n",
        "Data yang rapi adalah:\n",
        "1. Setiap row menunjukan suatu unit observasi\n",
        "2. Setiap column merupakan suatu unit variable\n",
        "\n",
        "Bagaimana pun, dalam menentukan unit observasi itu tergantung dari kasus yang di hadapi. sebagai seorang data scientist pasti akan menemukan berbagai bentuk struktur data. adalah sangat penting bagi seorang data scientist untuk dapat memahami dan menjelaskan setiap struktur data. Kemampuan memahami hubungan antara index baris, column dan isi data adalah kunci untuk memahami informasi apa yang data sedang beritahukan kepada kita.\n",
        "\n",
        "Di bawah ini terdapat 2 data yang berisi sama, tetapi memiliki struktur yang berbeda. Jelaskan perbedaan dari 2 struktur data tersebut"
      ]
    },
    {
      "cell_type": "markdown",
      "metadata": {
        "id": "HYtZqGxLKrxc"
      },
      "source": [
        "![alt text](https://drive.google.com/uc?id=1h13CDPzIjc-2XyRcyu-p1fet0Ep1gdMA)"
      ]
    },
    {
      "cell_type": "markdown",
      "metadata": {
        "id": "nn4EuLbnKrxf"
      },
      "source": [
        "![alt text](https://drive.google.com/uc?id=12ji98ell5tNcCxeBzl4v8qqBtFMgDSr0)"
      ]
    },
    {
      "cell_type": "markdown",
      "metadata": {
        "id": "_fixNOUAKrxh"
      },
      "source": [
        ""
      ]
    },
    {
      "cell_type": "markdown",
      "metadata": {
        "id": "Vxig2IeYKrxj"
      },
      "source": [
        "<h2>Soal 3: Reshaping Data 1</h2>"
      ]
    },
    {
      "cell_type": "code",
      "metadata": {
        "id": "4Jp7bLWNKrxl",
        "colab": {
          "base_uri": "https://localhost:8080/",
          "height": 421
        },
        "outputId": "a800eafa-21d8-4d68-9157-bb7ba702de64"
      },
      "source": [
        "import pandas as pd\n",
        "import random\n",
        "\n",
        "data = {\n",
        "    'Tipe Ujian' : ['UTS1', 'UAS1', 'UTS2', 'UAS2']*3,\n",
        "    'Mata Pelajaran' : ['Fisika']*4 + ['Matematika']*4+['Statistika']*4,\n",
        "    'Rata2 Waktu Belajar (menit)' : [random.choice(range(200, 800)) for i in range(12)],\n",
        "    'Rata2 Nilai Ujian' : [random.choice(range(40, 100)) for i in range(12)] \n",
        "}\n",
        "df = pd.DataFrame(data)\n",
        "df"
      ],
      "execution_count": 2,
      "outputs": [
        {
          "output_type": "execute_result",
          "data": {
            "text/html": [
              "<div>\n",
              "<style scoped>\n",
              "    .dataframe tbody tr th:only-of-type {\n",
              "        vertical-align: middle;\n",
              "    }\n",
              "\n",
              "    .dataframe tbody tr th {\n",
              "        vertical-align: top;\n",
              "    }\n",
              "\n",
              "    .dataframe thead th {\n",
              "        text-align: right;\n",
              "    }\n",
              "</style>\n",
              "<table border=\"1\" class=\"dataframe\">\n",
              "  <thead>\n",
              "    <tr style=\"text-align: right;\">\n",
              "      <th></th>\n",
              "      <th>Tipe Ujian</th>\n",
              "      <th>Mata Pelajaran</th>\n",
              "      <th>Rata2 Waktu Belajar (menit)</th>\n",
              "      <th>Rata2 Nilai Ujian</th>\n",
              "    </tr>\n",
              "  </thead>\n",
              "  <tbody>\n",
              "    <tr>\n",
              "      <th>0</th>\n",
              "      <td>UTS1</td>\n",
              "      <td>Fisika</td>\n",
              "      <td>345</td>\n",
              "      <td>51</td>\n",
              "    </tr>\n",
              "    <tr>\n",
              "      <th>1</th>\n",
              "      <td>UAS1</td>\n",
              "      <td>Fisika</td>\n",
              "      <td>264</td>\n",
              "      <td>69</td>\n",
              "    </tr>\n",
              "    <tr>\n",
              "      <th>2</th>\n",
              "      <td>UTS2</td>\n",
              "      <td>Fisika</td>\n",
              "      <td>606</td>\n",
              "      <td>68</td>\n",
              "    </tr>\n",
              "    <tr>\n",
              "      <th>3</th>\n",
              "      <td>UAS2</td>\n",
              "      <td>Fisika</td>\n",
              "      <td>330</td>\n",
              "      <td>96</td>\n",
              "    </tr>\n",
              "    <tr>\n",
              "      <th>4</th>\n",
              "      <td>UTS1</td>\n",
              "      <td>Matematika</td>\n",
              "      <td>288</td>\n",
              "      <td>53</td>\n",
              "    </tr>\n",
              "    <tr>\n",
              "      <th>5</th>\n",
              "      <td>UAS1</td>\n",
              "      <td>Matematika</td>\n",
              "      <td>538</td>\n",
              "      <td>85</td>\n",
              "    </tr>\n",
              "    <tr>\n",
              "      <th>6</th>\n",
              "      <td>UTS2</td>\n",
              "      <td>Matematika</td>\n",
              "      <td>339</td>\n",
              "      <td>88</td>\n",
              "    </tr>\n",
              "    <tr>\n",
              "      <th>7</th>\n",
              "      <td>UAS2</td>\n",
              "      <td>Matematika</td>\n",
              "      <td>723</td>\n",
              "      <td>48</td>\n",
              "    </tr>\n",
              "    <tr>\n",
              "      <th>8</th>\n",
              "      <td>UTS1</td>\n",
              "      <td>Statistika</td>\n",
              "      <td>639</td>\n",
              "      <td>96</td>\n",
              "    </tr>\n",
              "    <tr>\n",
              "      <th>9</th>\n",
              "      <td>UAS1</td>\n",
              "      <td>Statistika</td>\n",
              "      <td>472</td>\n",
              "      <td>61</td>\n",
              "    </tr>\n",
              "    <tr>\n",
              "      <th>10</th>\n",
              "      <td>UTS2</td>\n",
              "      <td>Statistika</td>\n",
              "      <td>632</td>\n",
              "      <td>81</td>\n",
              "    </tr>\n",
              "    <tr>\n",
              "      <th>11</th>\n",
              "      <td>UAS2</td>\n",
              "      <td>Statistika</td>\n",
              "      <td>210</td>\n",
              "      <td>72</td>\n",
              "    </tr>\n",
              "  </tbody>\n",
              "</table>\n",
              "</div>"
            ],
            "text/plain": [
              "   Tipe Ujian Mata Pelajaran  Rata2 Waktu Belajar (menit)  Rata2 Nilai Ujian\n",
              "0        UTS1         Fisika                          345                 51\n",
              "1        UAS1         Fisika                          264                 69\n",
              "2        UTS2         Fisika                          606                 68\n",
              "3        UAS2         Fisika                          330                 96\n",
              "4        UTS1     Matematika                          288                 53\n",
              "5        UAS1     Matematika                          538                 85\n",
              "6        UTS2     Matematika                          339                 88\n",
              "7        UAS2     Matematika                          723                 48\n",
              "8        UTS1     Statistika                          639                 96\n",
              "9        UAS1     Statistika                          472                 61\n",
              "10       UTS2     Statistika                          632                 81\n",
              "11       UAS2     Statistika                          210                 72"
            ]
          },
          "metadata": {
            "tags": []
          },
          "execution_count": 2
        }
      ]
    },
    {
      "cell_type": "markdown",
      "metadata": {
        "id": "G3yKJFwTKrx8"
      },
      "source": [
        "Perhatikan data di atas, kemudian ubahlah bentuknya agar sesuai yang di harapkan."
      ]
    },
    {
      "cell_type": "code",
      "metadata": {
        "id": "ztFDyKDYKrx-",
        "colab": {
          "base_uri": "https://localhost:8080/",
          "height": 421
        },
        "outputId": "9a9d50b0-2186-49dc-afe6-066614a12529"
      },
      "source": [
        "# code here\n",
        "import pandas as pd\n",
        "import random\n",
        "\n",
        "data = {\n",
        "    'Tipe Ujian' : ['UTS1', 'UAS1', 'UTS2', 'UAS2']*3,\n",
        "    'Mata Pelajaran' : ['Fisika']*4 + ['Matematika']*4+['Statistika']*4,\n",
        "    'Rata2 Waktu Belajar (menit)' : [random.choice(range(200, 800)) for i in range(12)],\n",
        "    'Rata2 Nilai Ujian' : [random.choice(range(40, 100)) for i in range(12)] \n",
        "}\n",
        "df = pd.DataFrame(data)\n",
        "df"
      ],
      "execution_count": 3,
      "outputs": [
        {
          "output_type": "execute_result",
          "data": {
            "text/html": [
              "<div>\n",
              "<style scoped>\n",
              "    .dataframe tbody tr th:only-of-type {\n",
              "        vertical-align: middle;\n",
              "    }\n",
              "\n",
              "    .dataframe tbody tr th {\n",
              "        vertical-align: top;\n",
              "    }\n",
              "\n",
              "    .dataframe thead th {\n",
              "        text-align: right;\n",
              "    }\n",
              "</style>\n",
              "<table border=\"1\" class=\"dataframe\">\n",
              "  <thead>\n",
              "    <tr style=\"text-align: right;\">\n",
              "      <th></th>\n",
              "      <th>Tipe Ujian</th>\n",
              "      <th>Mata Pelajaran</th>\n",
              "      <th>Rata2 Waktu Belajar (menit)</th>\n",
              "      <th>Rata2 Nilai Ujian</th>\n",
              "    </tr>\n",
              "  </thead>\n",
              "  <tbody>\n",
              "    <tr>\n",
              "      <th>0</th>\n",
              "      <td>UTS1</td>\n",
              "      <td>Fisika</td>\n",
              "      <td>731</td>\n",
              "      <td>52</td>\n",
              "    </tr>\n",
              "    <tr>\n",
              "      <th>1</th>\n",
              "      <td>UAS1</td>\n",
              "      <td>Fisika</td>\n",
              "      <td>267</td>\n",
              "      <td>47</td>\n",
              "    </tr>\n",
              "    <tr>\n",
              "      <th>2</th>\n",
              "      <td>UTS2</td>\n",
              "      <td>Fisika</td>\n",
              "      <td>723</td>\n",
              "      <td>41</td>\n",
              "    </tr>\n",
              "    <tr>\n",
              "      <th>3</th>\n",
              "      <td>UAS2</td>\n",
              "      <td>Fisika</td>\n",
              "      <td>703</td>\n",
              "      <td>70</td>\n",
              "    </tr>\n",
              "    <tr>\n",
              "      <th>4</th>\n",
              "      <td>UTS1</td>\n",
              "      <td>Matematika</td>\n",
              "      <td>302</td>\n",
              "      <td>47</td>\n",
              "    </tr>\n",
              "    <tr>\n",
              "      <th>5</th>\n",
              "      <td>UAS1</td>\n",
              "      <td>Matematika</td>\n",
              "      <td>659</td>\n",
              "      <td>74</td>\n",
              "    </tr>\n",
              "    <tr>\n",
              "      <th>6</th>\n",
              "      <td>UTS2</td>\n",
              "      <td>Matematika</td>\n",
              "      <td>556</td>\n",
              "      <td>79</td>\n",
              "    </tr>\n",
              "    <tr>\n",
              "      <th>7</th>\n",
              "      <td>UAS2</td>\n",
              "      <td>Matematika</td>\n",
              "      <td>206</td>\n",
              "      <td>44</td>\n",
              "    </tr>\n",
              "    <tr>\n",
              "      <th>8</th>\n",
              "      <td>UTS1</td>\n",
              "      <td>Statistika</td>\n",
              "      <td>553</td>\n",
              "      <td>51</td>\n",
              "    </tr>\n",
              "    <tr>\n",
              "      <th>9</th>\n",
              "      <td>UAS1</td>\n",
              "      <td>Statistika</td>\n",
              "      <td>583</td>\n",
              "      <td>58</td>\n",
              "    </tr>\n",
              "    <tr>\n",
              "      <th>10</th>\n",
              "      <td>UTS2</td>\n",
              "      <td>Statistika</td>\n",
              "      <td>460</td>\n",
              "      <td>44</td>\n",
              "    </tr>\n",
              "    <tr>\n",
              "      <th>11</th>\n",
              "      <td>UAS2</td>\n",
              "      <td>Statistika</td>\n",
              "      <td>770</td>\n",
              "      <td>47</td>\n",
              "    </tr>\n",
              "  </tbody>\n",
              "</table>\n",
              "</div>"
            ],
            "text/plain": [
              "   Tipe Ujian Mata Pelajaran  Rata2 Waktu Belajar (menit)  Rata2 Nilai Ujian\n",
              "0        UTS1         Fisika                          731                 52\n",
              "1        UAS1         Fisika                          267                 47\n",
              "2        UTS2         Fisika                          723                 41\n",
              "3        UAS2         Fisika                          703                 70\n",
              "4        UTS1     Matematika                          302                 47\n",
              "5        UAS1     Matematika                          659                 74\n",
              "6        UTS2     Matematika                          556                 79\n",
              "7        UAS2     Matematika                          206                 44\n",
              "8        UTS1     Statistika                          553                 51\n",
              "9        UAS1     Statistika                          583                 58\n",
              "10       UTS2     Statistika                          460                 44\n",
              "11       UAS2     Statistika                          770                 47"
            ]
          },
          "metadata": {
            "tags": []
          },
          "execution_count": 3
        }
      ]
    },
    {
      "cell_type": "code",
      "metadata": {
        "colab": {
          "base_uri": "https://localhost:8080/",
          "height": 235
        },
        "id": "-CXvozXp2s_S",
        "outputId": "ffce82b6-b0fb-43c7-e863-7a006d7be4a1"
      },
      "source": [
        "df.pivot_table(values=['Rata2 Nilai Ujian','Rata2 Waktu Belajar (menit)'], \n",
        "               index='Tipe Ujian', columns='Mata Pelajaran')"
      ],
      "execution_count": 4,
      "outputs": [
        {
          "output_type": "execute_result",
          "data": {
            "text/html": [
              "<div>\n",
              "<style scoped>\n",
              "    .dataframe tbody tr th:only-of-type {\n",
              "        vertical-align: middle;\n",
              "    }\n",
              "\n",
              "    .dataframe tbody tr th {\n",
              "        vertical-align: top;\n",
              "    }\n",
              "\n",
              "    .dataframe thead tr th {\n",
              "        text-align: left;\n",
              "    }\n",
              "\n",
              "    .dataframe thead tr:last-of-type th {\n",
              "        text-align: right;\n",
              "    }\n",
              "</style>\n",
              "<table border=\"1\" class=\"dataframe\">\n",
              "  <thead>\n",
              "    <tr>\n",
              "      <th></th>\n",
              "      <th colspan=\"3\" halign=\"left\">Rata2 Nilai Ujian</th>\n",
              "      <th colspan=\"3\" halign=\"left\">Rata2 Waktu Belajar (menit)</th>\n",
              "    </tr>\n",
              "    <tr>\n",
              "      <th>Mata Pelajaran</th>\n",
              "      <th>Fisika</th>\n",
              "      <th>Matematika</th>\n",
              "      <th>Statistika</th>\n",
              "      <th>Fisika</th>\n",
              "      <th>Matematika</th>\n",
              "      <th>Statistika</th>\n",
              "    </tr>\n",
              "    <tr>\n",
              "      <th>Tipe Ujian</th>\n",
              "      <th></th>\n",
              "      <th></th>\n",
              "      <th></th>\n",
              "      <th></th>\n",
              "      <th></th>\n",
              "      <th></th>\n",
              "    </tr>\n",
              "  </thead>\n",
              "  <tbody>\n",
              "    <tr>\n",
              "      <th>UAS1</th>\n",
              "      <td>47</td>\n",
              "      <td>74</td>\n",
              "      <td>58</td>\n",
              "      <td>267</td>\n",
              "      <td>659</td>\n",
              "      <td>583</td>\n",
              "    </tr>\n",
              "    <tr>\n",
              "      <th>UAS2</th>\n",
              "      <td>70</td>\n",
              "      <td>44</td>\n",
              "      <td>47</td>\n",
              "      <td>703</td>\n",
              "      <td>206</td>\n",
              "      <td>770</td>\n",
              "    </tr>\n",
              "    <tr>\n",
              "      <th>UTS1</th>\n",
              "      <td>52</td>\n",
              "      <td>47</td>\n",
              "      <td>51</td>\n",
              "      <td>731</td>\n",
              "      <td>302</td>\n",
              "      <td>553</td>\n",
              "    </tr>\n",
              "    <tr>\n",
              "      <th>UTS2</th>\n",
              "      <td>41</td>\n",
              "      <td>79</td>\n",
              "      <td>44</td>\n",
              "      <td>723</td>\n",
              "      <td>556</td>\n",
              "      <td>460</td>\n",
              "    </tr>\n",
              "  </tbody>\n",
              "</table>\n",
              "</div>"
            ],
            "text/plain": [
              "               Rata2 Nilai Ujian             ... Rata2 Waktu Belajar (menit)           \n",
              "Mata Pelajaran            Fisika Matematika  ...                  Matematika Statistika\n",
              "Tipe Ujian                                   ...                                       \n",
              "UAS1                          47         74  ...                         659        583\n",
              "UAS2                          70         44  ...                         206        770\n",
              "UTS1                          52         47  ...                         302        553\n",
              "UTS2                          41         79  ...                         556        460\n",
              "\n",
              "[4 rows x 6 columns]"
            ]
          },
          "metadata": {
            "tags": []
          },
          "execution_count": 4
        }
      ]
    },
    {
      "cell_type": "markdown",
      "metadata": {
        "id": "xA8ZlQErKryO"
      },
      "source": [
        "Expected Result:\n",
        "\n",
        "![alt text](https://drive.google.com/uc?id=1XufsfqZe7-XZLsb92SpATexy-QRZE0ow)"
      ]
    },
    {
      "cell_type": "markdown",
      "metadata": {
        "id": "pXb8LRDWKryQ"
      },
      "source": [
        "<h2>Soal 4: Reshaping Data 2</h2>"
      ]
    },
    {
      "cell_type": "code",
      "metadata": {
        "id": "LHe2XZyNKryS",
        "colab": {
          "base_uri": "https://localhost:8080/",
          "height": 142
        },
        "outputId": "932de750-2176-42e8-824c-e13ce9388414"
      },
      "source": [
        "import pandas as pd\n",
        "\n",
        "data = {\n",
        "    'Hari' : ['Sabtu', 'Minggu'],\n",
        "    'Kebun Binatang' : [271, 399],\n",
        "    'Dufan' : [501, 700],\n",
        "    'Disney' : [1000, 1001],\n",
        "    'Bali' : [900, 803]\n",
        "}\n",
        "df = pd.DataFrame(data).set_index('Hari')\n",
        "df"
      ],
      "execution_count": 14,
      "outputs": [
        {
          "output_type": "execute_result",
          "data": {
            "text/html": [
              "<div>\n",
              "<style scoped>\n",
              "    .dataframe tbody tr th:only-of-type {\n",
              "        vertical-align: middle;\n",
              "    }\n",
              "\n",
              "    .dataframe tbody tr th {\n",
              "        vertical-align: top;\n",
              "    }\n",
              "\n",
              "    .dataframe thead th {\n",
              "        text-align: right;\n",
              "    }\n",
              "</style>\n",
              "<table border=\"1\" class=\"dataframe\">\n",
              "  <thead>\n",
              "    <tr style=\"text-align: right;\">\n",
              "      <th></th>\n",
              "      <th>Kebun Binatang</th>\n",
              "      <th>Dufan</th>\n",
              "      <th>Disney</th>\n",
              "      <th>Bali</th>\n",
              "    </tr>\n",
              "    <tr>\n",
              "      <th>Hari</th>\n",
              "      <th></th>\n",
              "      <th></th>\n",
              "      <th></th>\n",
              "      <th></th>\n",
              "    </tr>\n",
              "  </thead>\n",
              "  <tbody>\n",
              "    <tr>\n",
              "      <th>Sabtu</th>\n",
              "      <td>271</td>\n",
              "      <td>501</td>\n",
              "      <td>1000</td>\n",
              "      <td>900</td>\n",
              "    </tr>\n",
              "    <tr>\n",
              "      <th>Minggu</th>\n",
              "      <td>399</td>\n",
              "      <td>700</td>\n",
              "      <td>1001</td>\n",
              "      <td>803</td>\n",
              "    </tr>\n",
              "  </tbody>\n",
              "</table>\n",
              "</div>"
            ],
            "text/plain": [
              "        Kebun Binatang  Dufan  Disney  Bali\n",
              "Hari                                       \n",
              "Sabtu              271    501    1000   900\n",
              "Minggu             399    700    1001   803"
            ]
          },
          "metadata": {
            "tags": []
          },
          "execution_count": 14
        }
      ]
    },
    {
      "cell_type": "code",
      "metadata": {
        "colab": {
          "base_uri": "https://localhost:8080/",
          "height": 297
        },
        "id": "oKewXlWo22Ba",
        "outputId": "099eb995-e17e-4aa7-dd03-8b25002551eb"
      },
      "source": [
        "# code here\n",
        "\n",
        "df.reset_index(inplace=True)\n",
        "df.melt(id_vars =['Hari'], var_name='Tempat Hiburan', value_name='Pengunjung')"
      ],
      "execution_count": 15,
      "outputs": [
        {
          "output_type": "execute_result",
          "data": {
            "text/html": [
              "<div>\n",
              "<style scoped>\n",
              "    .dataframe tbody tr th:only-of-type {\n",
              "        vertical-align: middle;\n",
              "    }\n",
              "\n",
              "    .dataframe tbody tr th {\n",
              "        vertical-align: top;\n",
              "    }\n",
              "\n",
              "    .dataframe thead th {\n",
              "        text-align: right;\n",
              "    }\n",
              "</style>\n",
              "<table border=\"1\" class=\"dataframe\">\n",
              "  <thead>\n",
              "    <tr style=\"text-align: right;\">\n",
              "      <th></th>\n",
              "      <th>Hari</th>\n",
              "      <th>Tempat Hiburan</th>\n",
              "      <th>Pengunjung</th>\n",
              "    </tr>\n",
              "  </thead>\n",
              "  <tbody>\n",
              "    <tr>\n",
              "      <th>0</th>\n",
              "      <td>Sabtu</td>\n",
              "      <td>Kebun Binatang</td>\n",
              "      <td>271</td>\n",
              "    </tr>\n",
              "    <tr>\n",
              "      <th>1</th>\n",
              "      <td>Minggu</td>\n",
              "      <td>Kebun Binatang</td>\n",
              "      <td>399</td>\n",
              "    </tr>\n",
              "    <tr>\n",
              "      <th>2</th>\n",
              "      <td>Sabtu</td>\n",
              "      <td>Dufan</td>\n",
              "      <td>501</td>\n",
              "    </tr>\n",
              "    <tr>\n",
              "      <th>3</th>\n",
              "      <td>Minggu</td>\n",
              "      <td>Dufan</td>\n",
              "      <td>700</td>\n",
              "    </tr>\n",
              "    <tr>\n",
              "      <th>4</th>\n",
              "      <td>Sabtu</td>\n",
              "      <td>Disney</td>\n",
              "      <td>1000</td>\n",
              "    </tr>\n",
              "    <tr>\n",
              "      <th>5</th>\n",
              "      <td>Minggu</td>\n",
              "      <td>Disney</td>\n",
              "      <td>1001</td>\n",
              "    </tr>\n",
              "    <tr>\n",
              "      <th>6</th>\n",
              "      <td>Sabtu</td>\n",
              "      <td>Bali</td>\n",
              "      <td>900</td>\n",
              "    </tr>\n",
              "    <tr>\n",
              "      <th>7</th>\n",
              "      <td>Minggu</td>\n",
              "      <td>Bali</td>\n",
              "      <td>803</td>\n",
              "    </tr>\n",
              "  </tbody>\n",
              "</table>\n",
              "</div>"
            ],
            "text/plain": [
              "     Hari  Tempat Hiburan  Pengunjung\n",
              "0   Sabtu  Kebun Binatang         271\n",
              "1  Minggu  Kebun Binatang         399\n",
              "2   Sabtu           Dufan         501\n",
              "3  Minggu           Dufan         700\n",
              "4   Sabtu          Disney        1000\n",
              "5  Minggu          Disney        1001\n",
              "6   Sabtu            Bali         900\n",
              "7  Minggu            Bali         803"
            ]
          },
          "metadata": {
            "tags": []
          },
          "execution_count": 15
        }
      ]
    },
    {
      "cell_type": "markdown",
      "metadata": {
        "id": "w87S4Xl_Kryg"
      },
      "source": [
        "diatas adalah data tentang jumlah pengunjung di berbagai tempat hiburan, ubahlah struktur data tersebut sehingga sesuai dengan hasil yang diharapkan."
      ]
    },
    {
      "cell_type": "markdown",
      "metadata": {
        "id": "d7_5dDsRKryi"
      },
      "source": [
        "Expected Result:\n",
        "\n",
        "![alt text](https://drive.google.com/uc?id=159mIqcyfeD30EEcyZmmkovORa6cZDLtn)"
      ]
    },
    {
      "cell_type": "markdown",
      "metadata": {
        "id": "GGHgeYkEKryk"
      },
      "source": [
        "<h2>Soal 5: Pivoting and Aggregating</h2>"
      ]
    },
    {
      "cell_type": "code",
      "metadata": {
        "id": "iKMM155KKryn",
        "colab": {
          "base_uri": "https://localhost:8080/",
          "height": 266
        },
        "outputId": "52725e08-8672-40a2-a8c6-2a900646fb6b"
      },
      "source": [
        "import pandas as pd\n",
        "\n",
        "data = {\n",
        "    'Tipe Ujian' : ['UTS1', 'UAS1']*3,\n",
        "    'Mata Pelajaran' :['Statistika', 'Fisika', 'Fisika', 'Statistika', 'Fisika', 'Statistika'],\n",
        "    'Jumlah Peserta' : [14, 17, 12, 16, 14, 13]\n",
        "}\n",
        "df = pd.DataFrame(data).set_index('Tipe Ujian')\n",
        "df"
      ],
      "execution_count": 16,
      "outputs": [
        {
          "output_type": "execute_result",
          "data": {
            "text/html": [
              "<div>\n",
              "<style scoped>\n",
              "    .dataframe tbody tr th:only-of-type {\n",
              "        vertical-align: middle;\n",
              "    }\n",
              "\n",
              "    .dataframe tbody tr th {\n",
              "        vertical-align: top;\n",
              "    }\n",
              "\n",
              "    .dataframe thead th {\n",
              "        text-align: right;\n",
              "    }\n",
              "</style>\n",
              "<table border=\"1\" class=\"dataframe\">\n",
              "  <thead>\n",
              "    <tr style=\"text-align: right;\">\n",
              "      <th></th>\n",
              "      <th>Mata Pelajaran</th>\n",
              "      <th>Jumlah Peserta</th>\n",
              "    </tr>\n",
              "    <tr>\n",
              "      <th>Tipe Ujian</th>\n",
              "      <th></th>\n",
              "      <th></th>\n",
              "    </tr>\n",
              "  </thead>\n",
              "  <tbody>\n",
              "    <tr>\n",
              "      <th>UTS1</th>\n",
              "      <td>Statistika</td>\n",
              "      <td>14</td>\n",
              "    </tr>\n",
              "    <tr>\n",
              "      <th>UAS1</th>\n",
              "      <td>Fisika</td>\n",
              "      <td>17</td>\n",
              "    </tr>\n",
              "    <tr>\n",
              "      <th>UTS1</th>\n",
              "      <td>Fisika</td>\n",
              "      <td>12</td>\n",
              "    </tr>\n",
              "    <tr>\n",
              "      <th>UAS1</th>\n",
              "      <td>Statistika</td>\n",
              "      <td>16</td>\n",
              "    </tr>\n",
              "    <tr>\n",
              "      <th>UTS1</th>\n",
              "      <td>Fisika</td>\n",
              "      <td>14</td>\n",
              "    </tr>\n",
              "    <tr>\n",
              "      <th>UAS1</th>\n",
              "      <td>Statistika</td>\n",
              "      <td>13</td>\n",
              "    </tr>\n",
              "  </tbody>\n",
              "</table>\n",
              "</div>"
            ],
            "text/plain": [
              "           Mata Pelajaran  Jumlah Peserta\n",
              "Tipe Ujian                               \n",
              "UTS1           Statistika              14\n",
              "UAS1               Fisika              17\n",
              "UTS1               Fisika              12\n",
              "UAS1           Statistika              16\n",
              "UTS1               Fisika              14\n",
              "UAS1           Statistika              13"
            ]
          },
          "metadata": {
            "tags": []
          },
          "execution_count": 16
        }
      ]
    },
    {
      "cell_type": "markdown",
      "metadata": {
        "id": "odnDYRM3Kryz"
      },
      "source": [
        "Perhatikan bahwa data jumlah peserta ujian untuk suatu tipe ujian dan mata pelajaran tertentu ada yang duplikat, ubahlah struktur data tersebut dan lakukan aggregasi berjenis jumlah sehingga sesuai dengan hasil yang di harapkan\n",
        "\n",
        "Expected Result:\n",
        "\n",
        "![alt text](https://drive.google.com/uc?id=1emoz7orYR-0mCHffvAgM8j-V1P6yVHf0)"
      ]
    },
    {
      "cell_type": "code",
      "metadata": {
        "id": "gLKJlUYgKry3",
        "colab": {
          "base_uri": "https://localhost:8080/",
          "height": 173
        },
        "outputId": "ee9671bc-a62e-4433-b55c-baedd2c849f3"
      },
      "source": [
        "#Code here\n",
        "import numpy as np\n",
        "df.pivot_table(index='Tipe Ujian', columns=['Mata Pelajaran'], aggfunc=np.sum)"
      ],
      "execution_count": 17,
      "outputs": [
        {
          "output_type": "execute_result",
          "data": {
            "text/html": [
              "<div>\n",
              "<style scoped>\n",
              "    .dataframe tbody tr th:only-of-type {\n",
              "        vertical-align: middle;\n",
              "    }\n",
              "\n",
              "    .dataframe tbody tr th {\n",
              "        vertical-align: top;\n",
              "    }\n",
              "\n",
              "    .dataframe thead tr th {\n",
              "        text-align: left;\n",
              "    }\n",
              "\n",
              "    .dataframe thead tr:last-of-type th {\n",
              "        text-align: right;\n",
              "    }\n",
              "</style>\n",
              "<table border=\"1\" class=\"dataframe\">\n",
              "  <thead>\n",
              "    <tr>\n",
              "      <th></th>\n",
              "      <th colspan=\"2\" halign=\"left\">Jumlah Peserta</th>\n",
              "    </tr>\n",
              "    <tr>\n",
              "      <th>Mata Pelajaran</th>\n",
              "      <th>Fisika</th>\n",
              "      <th>Statistika</th>\n",
              "    </tr>\n",
              "    <tr>\n",
              "      <th>Tipe Ujian</th>\n",
              "      <th></th>\n",
              "      <th></th>\n",
              "    </tr>\n",
              "  </thead>\n",
              "  <tbody>\n",
              "    <tr>\n",
              "      <th>UAS1</th>\n",
              "      <td>17</td>\n",
              "      <td>29</td>\n",
              "    </tr>\n",
              "    <tr>\n",
              "      <th>UTS1</th>\n",
              "      <td>26</td>\n",
              "      <td>14</td>\n",
              "    </tr>\n",
              "  </tbody>\n",
              "</table>\n",
              "</div>"
            ],
            "text/plain": [
              "               Jumlah Peserta           \n",
              "Mata Pelajaran         Fisika Statistika\n",
              "Tipe Ujian                              \n",
              "UAS1                       17         29\n",
              "UTS1                       26         14"
            ]
          },
          "metadata": {
            "tags": []
          },
          "execution_count": 17
        }
      ]
    }
  ]
}